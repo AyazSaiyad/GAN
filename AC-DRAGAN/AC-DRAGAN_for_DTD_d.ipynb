{
 "cells": [
  {
   "cell_type": "code",
   "execution_count": 1,
   "metadata": {
    "collapsed": false,
    "scrolled": true
   },
   "outputs": [],
   "source": [
    "import tensorflow as tf\n",
    "import os\n",
    "import numpy as np\n",
    "from model import *\n",
    "from utility import *\n",
    "\n",
    "model_name = \"AC-DRAGAN_for_DTD_d\""
   ]
  },
  {
   "cell_type": "code",
   "execution_count": 2,
   "metadata": {
    "collapsed": true
   },
   "outputs": [],
   "source": [
    "class Generator:\n",
    "    def __init__(self):\n",
    "        self.reuse = False\n",
    "        self.g_bn0 = BatchNormalization(name = 'g_bn0')\n",
    "        self.g_bn1 = BatchNormalization(name = 'g_bn1')\n",
    "        self.g_bn2 = BatchNormalization(name = 'g_bn2')\n",
    "        self.g_bn3 = BatchNormalization(name = 'g_bn3')\n",
    "\n",
    "    def __call__(self, z):\n",
    "        with tf.variable_scope('g', reuse=self.reuse):\n",
    "\n",
    "            fc0 = full_connection_layer(z, 512*6*6, name=\"fc0\")\n",
    "            fc0 = tf.reshape(fc0, [-1, 6, 6, 512])\n",
    "\n",
    "            batch_size = tf.shape(fc0)[0]\n",
    "            deconv0 = deconv2d_layer(fc0, [batch_size, 12, 12, 256], kernel_size=5, name=\"deconv0\")\n",
    "            deconv0 = self.g_bn0(deconv0)\n",
    "            deconv0 = lrelu(deconv0, leak=0.3)\n",
    "\n",
    "            deconv1 = deconv2d_layer(deconv0, [batch_size, 24, 24, 128], kernel_size=5, name=\"deconv1\")\n",
    "            deconv1 = self.g_bn1(deconv1)\n",
    "            deconv1 = lrelu(deconv1, leak=0.3)\n",
    "\n",
    "            deconv2 = deconv2d_layer(deconv1, [batch_size, 48, 48, 64], kernel_size=5, name=\"deconv2\")\n",
    "            deconv2 = self.g_bn2(deconv2)\n",
    "            deconv2 = lrelu(deconv2, leak=0.3)\n",
    "\n",
    "            deconv3 = deconv2d_layer(deconv2, [batch_size, 96, 96, 3], kernel_size=5, name=\"deconv3\")\n",
    "\n",
    "            output = tf.nn.sigmoid(deconv3)\n",
    "        self.reuse = True\n",
    "        self.variables = tf.get_collection(tf.GraphKeys.TRAINABLE_VARIABLES, scope='g')\n",
    "        return output"
   ]
  },
  {
   "cell_type": "code",
   "execution_count": 3,
   "metadata": {
    "collapsed": false
   },
   "outputs": [],
   "source": [
    "class Discriminator:\n",
    "    def __init__(self, cat_size):\n",
    "        self.reuse = False\n",
    "        self.d_bn0 = BatchNormalization(name=\"d_bn0\")\n",
    "        self.d_bn1 = BatchNormalization(name=\"d_bn1\")\n",
    "        self.d_bn2 = BatchNormalization(name=\"d_bn2\")\n",
    "        self.d_bn3 = BatchNormalization(name=\"d_bn3\")\n",
    "        self.d_bn4 = BatchNormalization(name=\"d_bn4\")\n",
    "        \n",
    "        self.cat_size = cat_size\n",
    "\n",
    "    def __call__(self, x):\n",
    "        with tf.variable_scope('d', reuse=self.reuse):\n",
    "            x = tf.reshape(x, [-1, 96, 96, 3])\n",
    "\n",
    "            conv1 = conv2d_layer(x, 64, kernel_size=5, name=\"d_conv0\")\n",
    "            conv1 = self.d_bn0(conv1)\n",
    "            conv1 = lrelu(conv1, leak=0.3)\n",
    "            \n",
    "            conv2 = conv2d_layer(conv1, 128, kernel_size=5, name=\"d_conv1\")\n",
    "            conv2 = self.d_bn1(conv2)\n",
    "            conv2 = lrelu(conv2, leak=0.3)\n",
    "\n",
    "            conv3 = conv2d_layer(conv2, 256, kernel_size=5, name=\"d_conv2\")\n",
    "            conv3 = self.d_bn2(conv3)\n",
    "            conv3 = lrelu(conv3, leak=0.3)\n",
    "\n",
    "            conv4 = conv2d_layer(conv3, 512, kernel_size=5, name=\"d_conv3\")\n",
    "            conv4 = self.d_bn3(conv4)\n",
    "            conv4 = lrelu(conv4, leak=0.3)\n",
    "            \n",
    "            disc = full_connection_layer(conv4, 1, name=\"disc\")\n",
    "            disc = tf.nn.sigmoid(disc)\n",
    "\n",
    "            aux = full_connection_layer(conv4, self.cat_size, name=\"aux\")\n",
    "\n",
    "        self.reuse = True\n",
    "        self.variables = tf.get_collection(tf.GraphKeys.TRAINABLE_VARIABLES, scope='d')\n",
    "\n",
    "        return disc, aux"
   ]
  },
  {
   "cell_type": "code",
   "execution_count": null,
   "metadata": {
    "collapsed": true
   },
   "outputs": [],
   "source": [
    "class GAN:\n",
    "    def __init__(self):\n",
    "        self.batch_size = 64\n",
    "        self.img_size = 96\n",
    "        self.rand_size = 50\n",
    "        self.cat_size = 47\n",
    "        self.z_size = self.rand_size + self.cat_size\n",
    "        \n",
    "        self.epochs = 50000\n",
    "        self.epoch_saveMetrics = 300\n",
    "        self.epoch_saveSampleImg = 300\n",
    "        self.epoch_saveParamter = 5000\n",
    "        self.losses = {\"d_loss\":[], \"g_loss\":[]}\n",
    "\n",
    "        # unrolled counts\n",
    "        self.steps = 5\n",
    "\n",
    "        #self.dataset = np.load(\"irasutoya_face_1813x96x96x3_jpg.npy\")\n",
    "        #self.dataset = (self.dataset/255)# - 0.5\n",
    "\n",
    "        self.X_tr = tf.placeholder(tf.float32, shape=[None, self.img_size, self.img_size, 3])\n",
    "        self.Y_tr = tf.placeholder(tf.float32, shape=[None, self.cat_size])\n",
    "        self.z = tf.placeholder(tf.float32, [None, self.z_size])\n",
    "        self.X_per = tf.placeholder(tf.float32, shape=[None, self.img_size, self.img_size, 3])\n",
    "\n",
    "        self.g = Generator()\n",
    "        self.d = Discriminator(self.cat_size)\n",
    "        self.Xg = self.g(self.z)\n",
    "        self.dtd = DTD()\n",
    "\n",
    "    def loss(self):\n",
    "        disc_tr, aux_tr = self.d(self.X_tr)\n",
    "        disc_gen, aux_gen = self.d(self.Xg)\n",
    "        \n",
    "        TINY = 1e-8\n",
    "        loss_g = tf.reduce_mean(1 - tf.log(disc_gen + TINY))\n",
    "\n",
    "        diff = self.X_per - self.X_tr\n",
    "        #print(g_outputs.shape[0])\n",
    "        alpha = tf.random_uniform(shape=[self.batch_size,1,1,1], minval=0., maxval=1.)\n",
    "        interpolates = self.X_tr + (alpha*diff)\n",
    "        disc_interplates, _ = self.d(interpolates)\n",
    "        gradients = tf.gradients(disc_interplates, [interpolates])[0]\n",
    "        slopes = tf.sqrt(tf.reduce_sum(tf.square(gradients), reduction_indices=[1]))\n",
    "        gradient_penalty = tf.reduce_mean((slopes-1.)**2)\n",
    "\n",
    "        lambda_ = 10\n",
    "        TINY = 1e-8\n",
    "        loss_d = -tf.reduce_mean(tf.log(disc_tr + TINY) + tf.log(1. - disc_gen + TINY)) + lambda_*gradient_penalty\n",
    "\n",
    "        loss_c_tr = tf.reduce_mean(tf.nn.softmax_cross_entropy_with_logits(logits=aux_tr, labels=self.Y_tr))\n",
    "        loss_c_gen = tf.reduce_mean(tf.nn.softmax_cross_entropy_with_logits(logits=aux_gen, labels=self.Y_tr))\n",
    "        loss_c = (loss_c_tr + loss_c_gen)/2\n",
    "\n",
    "        loss_g += loss_c\n",
    "        loss_d += loss_d\n",
    "        return loss_g, loss_d\n",
    "\n",
    "    def train(self):\n",
    "        # Optimizer\n",
    "        d_lr = 1e-4\n",
    "        d_beta1 = 0.5\n",
    "        g_lr = 1e-4\n",
    "        g_beta1 = 0.5\n",
    "\n",
    "        self.L_g, self.L_d = self.loss()\n",
    "\n",
    "        d_opt = tf.train.AdamOptimizer(learning_rate=d_lr)\n",
    "        d_train_op = d_opt.minimize(self.L_d, var_list=self.d.variables)\n",
    "        g_opt = tf.train.AdamOptimizer(learning_rate=g_lr)\n",
    "        g_train_op = g_opt.minimize(self.L_g, var_list=self.g.variables)\n",
    "\n",
    "        saver = tf.train.Saver()\n",
    "        \n",
    "        config = tf.ConfigProto(\n",
    "            gpu_options=tf.GPUOptions(\n",
    "                visible_device_list= \"0\"\n",
    "            )\n",
    "        )\n",
    "                \n",
    "        with tf.Session(config=config) as sess:\n",
    "            sess.run(tf.global_variables_initializer())\n",
    "\n",
    "            # preparing noise vec for test\n",
    "            bs = 100\n",
    "            test_z = np.random.uniform(-1, 1, size=[bs, self.z_size])\n",
    "\n",
    "            for epoch in range(self.epochs):\n",
    "                for step in range(self.steps):\n",
    "                    # extract images for training\n",
    "                    #rand_index = np.random.randint(0, self.dataset.shape[0], size=self.batch_size)\n",
    "                    #X_mb, Y_mb = self.dataset[rand_index, :].astype(np.float32)\n",
    "                    X_mb, Y_mb = self.dtd.extract(self.batch_size, self.img_size)\n",
    "                    X_mb = np.reshape(X_mb, [-1, 96, 96, 3])\n",
    "                    X_mb_per = X_mb + 0.5*np.std(X_mb)*np.random.random(X_mb.shape)\n",
    "\n",
    "                    rand = np.random.uniform(-1, 1, size=[self.batch_size, self.rand_size])\n",
    "                    #print(rand.shape)\n",
    "                    #print(Y_mb.shape)\n",
    "                    z = np.hstack((rand, Y_mb))\n",
    "                    #print(z.shape)\n",
    "\n",
    "                    # train Discriminator\n",
    "                    _, d_loss_value = sess.run([d_train_op, self.L_d], feed_dict={\n",
    "                        self.X_tr: X_mb,\n",
    "                        self.z:z,\n",
    "                        self.Y_tr: Y_mb,\n",
    "                        self.X_per: X_mb_per,\n",
    "                    })\n",
    "\n",
    "                    # train Generator\n",
    "                    _, g_loss_value = sess.run([g_train_op, self.L_g], feed_dict={\n",
    "                        self.X_tr: X_mb,\n",
    "                        self.z:z,\n",
    "                        self.Y_tr: Y_mb,\n",
    "                        self.X_per: X_mb_per,\n",
    "                    })\n",
    "\n",
    "                # append loss value for visualizing\n",
    "                self.losses[\"d_loss\"].append(np.sum(d_loss_value))\n",
    "                self.losses[\"g_loss\"].append(np.sum(g_loss_value))\n",
    "                \n",
    "                # print epoch\n",
    "                if epoch % 50 == 0:\n",
    "                    print('epoch:{0}, d_loss:{1}, g_loss: {2} '.format(epoch, d_loss_value, g_loss_value))\n",
    "                \n",
    "                # visualize loss\n",
    "                if epoch % self.epoch_saveMetrics == 0:\n",
    "                    save_metrics(model_name, self.losses, epoch)\n",
    "\n",
    "                # visualize generated images during training\n",
    "                if epoch % self.epoch_saveSampleImg == 0:\n",
    "                    img = sess.run(self.Xg, feed_dict={self.z: test_z})\n",
    "                    img = (img+0.5)\n",
    "                    save_imgs(model_name, img, name=str(epoch))\n",
    "\n",
    "                # save model parameters \n",
    "                if epoch % self.epoch_saveParamter == 0:\n",
    "                    dir_path = \"model_\" + model_name\n",
    "                    if not os.path.isdir(dir_path):\n",
    "                        os.makedirs(dir_path)\n",
    "\n",
    "                    saver.save(sess, dir_path + \"/\" + str(epoch) + \".ckpt\")"
   ]
  },
  {
   "cell_type": "code",
   "execution_count": null,
   "metadata": {
    "collapsed": false,
    "scrolled": false
   },
   "outputs": [
    {
     "name": "stdout",
     "output_type": "stream",
     "text": [
      "init DTD\n",
      "datasize of texture:5641\n"
     ]
    },
    {
     "name": "stderr",
     "output_type": "stream",
     "text": [
      "/home/ujitoko/anaconda3/lib/python3.6/site-packages/ipykernel/__main__.py:77: DeprecationWarning: PyUnicode_AsEncodedObject() is deprecated; use PyUnicode_AsEncodedString() to encode from str to bytes or PyCodec_Encode() for generic encoding\n"
     ]
    },
    {
     "name": "stdout",
     "output_type": "stream",
     "text": [
      "epoch:0, d_loss:20.000160217285156, g_loss: -210.6162109375 \n",
      "epoch:50, d_loss:20.000011444091797, g_loss: -199.588623046875 \n",
      "epoch:100, d_loss:20.00000762939453, g_loss: -201.57244873046875 \n",
      "epoch:150, d_loss:20.00000762939453, g_loss: -217.30136108398438 \n"
     ]
    }
   ],
   "source": [
    "gan = GAN()\n",
    "gan.train()"
   ]
  },
  {
   "cell_type": "code",
   "execution_count": null,
   "metadata": {
    "collapsed": true
   },
   "outputs": [],
   "source": []
  },
  {
   "cell_type": "code",
   "execution_count": null,
   "metadata": {
    "collapsed": true
   },
   "outputs": [],
   "source": []
  },
  {
   "cell_type": "code",
   "execution_count": null,
   "metadata": {
    "collapsed": true
   },
   "outputs": [],
   "source": []
  },
  {
   "cell_type": "code",
   "execution_count": null,
   "metadata": {
    "collapsed": true
   },
   "outputs": [],
   "source": []
  }
 ],
 "metadata": {
  "anaconda-cloud": {},
  "kernelspec": {
   "display_name": "Python 3",
   "language": "python",
   "name": "python3"
  },
  "language_info": {
   "codemirror_mode": {
    "name": "ipython",
    "version": 3
   },
   "file_extension": ".py",
   "mimetype": "text/x-python",
   "name": "python",
   "nbconvert_exporter": "python",
   "pygments_lexer": "ipython3",
   "version": "3.6.0"
  }
 },
 "nbformat": 4,
 "nbformat_minor": 1
}
