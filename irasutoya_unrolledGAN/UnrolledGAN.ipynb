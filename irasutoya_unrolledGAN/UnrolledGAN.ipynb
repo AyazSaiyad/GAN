{
 "cells": [
  {
   "cell_type": "code",
   "execution_count": 1,
   "metadata": {
    "collapsed": false
   },
   "outputs": [],
   "source": [
    "import tensorflow as tf\n",
    "import os\n",
    "from PIL import Image\n",
    "import numpy as np\n",
    "import matplotlib.pyplot as plt"
   ]
  },
  {
   "cell_type": "markdown",
   "metadata": {
    "collapsed": true
   },
   "source": [
    "# utility関数\n"
   ]
  },
  {
   "cell_type": "code",
   "execution_count": 2,
   "metadata": {
    "collapsed": true
   },
   "outputs": [],
   "source": [
    "def save_metrics(metrics, epoch=None):\n",
    "    plt.figure(figsize=(10,8))\n",
    "    plt.plot(metrics[\"dis_loss\"], label=\"discriminative loss\", color=\"b\")\n",
    "    plt.legend()\n",
    "    plt.savefig(os.path.join(\"metrics\", \"dloss\" + str(epoch) + \".png\"))\n",
    "    plt.close()\n",
    "\n",
    "    plt.figure(figsize=(10,8))\n",
    "    plt.plot(metrics[\"gen_loss\"], label=\"generative loss\", color=\"r\")\n",
    "    plt.legend()\n",
    "    plt.savefig(os.path.join(\"metrics\", \"g_loss\" + str(epoch) + \".png\"))\n",
    "    plt.close()"
   ]
  },
  {
   "cell_type": "code",
   "execution_count": 3,
   "metadata": {
    "collapsed": true
   },
   "outputs": [],
   "source": [
    "# noise[[examples, 100]]から生成した画像をplot_dim(例えば4x4)で表示\n",
    "def save_imgs(images, plot_dim=(5,12), size=(12,5), epoch=None):\n",
    "    examples = plot_dim[0]*plot_dim[1]\n",
    "\n",
    "    # 表示\n",
    "    fig = plt.figure(figsize=size)\n",
    "    for i in range(examples):\n",
    "        plt.subplot(plot_dim[0], plot_dim[1], i+1)\n",
    "        img = images[i, :]\n",
    "        img = img.reshape((96, 96, 3))\n",
    "        plt.tight_layout()\n",
    "        plt.imshow(img)\n",
    "        plt.axis(\"off\")\n",
    "    plt.subplots_adjust(wspace=0.1, hspace=0.1)\n",
    "    plt.savefig(os.path.join(\"generated_figures\", str(epoch) + \".png\"))\n",
    "    plt.close()\n"
   ]
  },
  {
   "cell_type": "markdown",
   "metadata": {},
   "source": [
    "# モデル"
   ]
  },
  {
   "cell_type": "code",
   "execution_count": 4,
   "metadata": {
    "collapsed": false
   },
   "outputs": [],
   "source": [
    "class Generator:\n",
    "    def __init__(self, depths=[1024,512,256,128], s_size=6):\n",
    "        self.depths = depths + [3]\n",
    "        self.s_size = s_size\n",
    "        self.reuse = False\n",
    "\n",
    "    def __call__(self, inputs, training=False):\n",
    "        inputs = tf.convert_to_tensor(inputs)\n",
    "        with tf.variable_scope('g', reuse=self.reuse):\n",
    "            # reshape from inputs\n",
    "            with tf.variable_scope('reshape'):\n",
    "                outputs = tf.layers.dense(inputs, self.depths[0] * self.s_size * self.s_size)\n",
    "                outputs = tf.reshape(outputs, [-1, self.s_size, self.s_size, self.depths[0]])\n",
    "                outputs = tf.nn.relu(tf.layers.batch_normalization(outputs, training=training), name='outputs')\n",
    "            # deconvolution (transpose of convolution) x 4\n",
    "            with tf.variable_scope('deconv1'):\n",
    "                outputs = tf.layers.conv2d_transpose(outputs, self.depths[1], [5, 5], strides=(2, 2), padding='SAME')\n",
    "                outputs = tf.nn.relu(tf.layers.batch_normalization(outputs, training=training), name='outputs')\n",
    "            with tf.variable_scope('deconv2'):\n",
    "                outputs = tf.layers.conv2d_transpose(outputs, self.depths[2], [5, 5], strides=(2, 2), padding='SAME')\n",
    "                outputs = tf.nn.relu(tf.layers.batch_normalization(outputs, training=training), name='outputs')\n",
    "            with tf.variable_scope('deconv3'):\n",
    "                outputs = tf.layers.conv2d_transpose(outputs, self.depths[3], [5, 5], strides=(2, 2), padding='SAME')\n",
    "                outputs = tf.nn.relu(tf.layers.batch_normalization(outputs, training=training), name='outputs')\n",
    "            with tf.variable_scope('deconv4'):\n",
    "                outputs = tf.layers.conv2d_transpose(outputs, self.depths[4], [5, 5], strides=(2, 2), padding='SAME')\n",
    "            # output images\n",
    "            with tf.variable_scope('tanh'):\n",
    "                outputs = tf.tanh(outputs, name='outputs')\n",
    "        self.reuse = True\n",
    "        self.variables = tf.get_collection(tf.GraphKeys.TRAINABLE_VARIABLES, scope='g')\n",
    "        return outputs"
   ]
  },
  {
   "cell_type": "code",
   "execution_count": 5,
   "metadata": {
    "collapsed": false
   },
   "outputs": [],
   "source": [
    "class Discriminator:\n",
    "    def __init__(self, depths=[64,128,256,512]):\n",
    "        self.depths = [3] + depths\n",
    "        self.reuse = False\n",
    "\n",
    "    def __call__(self, inputs, training=False, name=''):\n",
    "        def leaky_relu(x, leak=0.2, name=''):\n",
    "            return tf.maximum(x, x * leak, name=name)\n",
    "        outputs = tf.convert_to_tensor(inputs)\n",
    "\n",
    "        with tf.name_scope('d' + name), tf.variable_scope('d', reuse=self.reuse):\n",
    "            # convolution x 4\n",
    "            with tf.variable_scope('conv1'):\n",
    "                outputs = tf.layers.conv2d(outputs, self.depths[1], [5, 5], strides=(2, 2), padding='SAME')\n",
    "                outputs = leaky_relu(tf.layers.batch_normalization(outputs, training=training), name='outputs')\n",
    "            with tf.variable_scope('conv2'):\n",
    "                outputs = tf.layers.conv2d(outputs, self.depths[2], [5, 5], strides=(2, 2), padding='SAME')\n",
    "                outputs = leaky_relu(tf.layers.batch_normalization(outputs, training=training), name='outputs')\n",
    "            with tf.variable_scope('conv3'):\n",
    "                outputs = tf.layers.conv2d(outputs, self.depths[3], [5, 5], strides=(2, 2), padding='SAME')\n",
    "                outputs = leaky_relu(tf.layers.batch_normalization(outputs, training=training), name='outputs')\n",
    "            with tf.variable_scope('conv4'):\n",
    "                outputs = tf.layers.conv2d(outputs, self.depths[4], [5, 5], strides=(2, 2), padding='SAME')\n",
    "                outputs = leaky_relu(tf.layers.batch_normalization(outputs, training=training), name='outputs')\n",
    "            with tf.variable_scope('classify'):\n",
    "                batch_size = outputs.get_shape()[0].value\n",
    "                reshape = tf.reshape(outputs, [batch_size, -1])\n",
    "                outputs = tf.layers.dense(reshape, 2, name='outputs')\n",
    "        self.reuse = True\n",
    "        self.variables = tf.get_collection(tf.GraphKeys.TRAINABLE_VARIABLES, scope='d')\n",
    "        return outputs\n"
   ]
  },
  {
   "cell_type": "code",
   "execution_count": 6,
   "metadata": {
    "collapsed": true
   },
   "outputs": [],
   "source": [
    "class DCGAN:\n",
    "    def __init__(self,\n",
    "                 batch_size=64, s_size=6, z_dim=100,\n",
    "                 g_depths=[1024, 512, 256, 128],\n",
    "                 d_depths=[64, 128, 256, 512]):\n",
    "        self.batch_size = batch_size\n",
    "        self.s_size = s_size\n",
    "        self.z_dim = z_dim\n",
    "        self.g = Generator(depths=g_depths, s_size=self.s_size)\n",
    "        self.d = Discriminator(depths=d_depths)\n",
    "        self.z = tf.random_uniform([self.batch_size, self.z_dim], minval=-1.0, maxval=1.0)\n",
    "\n",
    "    def loss(self, traindata):\n",
    "        \"\"\"build models, calculate losses.\n",
    "        Args:\n",
    "            traindata: 4-D Tensor of shape `[batch, height, width, channels]`.\n",
    "        Returns:\n",
    "            dict of each models' losses.\n",
    "        \"\"\"\n",
    "        generated = self.g(self.z, training=True)\n",
    "        g_outputs = self.d(generated, training=True, name='g')\n",
    "        t_outputs = self.d(traindata, training=True, name='t')\n",
    "        # add each losses to collection\n",
    "        tf.add_to_collection(\n",
    "            'g_losses',\n",
    "            tf.reduce_mean(\n",
    "                tf.nn.sparse_softmax_cross_entropy_with_logits(\n",
    "                    labels=tf.ones([self.batch_size], dtype=tf.int64),\n",
    "                    logits=g_outputs)))\n",
    "        tf.add_to_collection(\n",
    "            'd_losses',\n",
    "            tf.reduce_mean(\n",
    "                tf.nn.sparse_softmax_cross_entropy_with_logits(\n",
    "                    labels=tf.ones([self.batch_size], dtype=tf.int64),\n",
    "                    logits=t_outputs)))\n",
    "        tf.add_to_collection(\n",
    "            'd_losses',\n",
    "            tf.reduce_mean(\n",
    "                tf.nn.sparse_softmax_cross_entropy_with_logits(\n",
    "                    labels=tf.zeros([self.batch_size], dtype=tf.int64),\n",
    "                    logits=g_outputs)))\n",
    "        return {\n",
    "            self.g: tf.add_n(tf.get_collection('g_losses'), name='total_g_loss'),\n",
    "            self.d: tf.add_n(tf.get_collection('d_losses'), name='total_d_loss'),\n",
    "        }\n",
    "\n",
    "\n",
    "    def train(self, losses, learning_rate=0.0002, beta1=0.5):\n",
    "        g_optimizer = tf.train.AdamOptimizer(learning_rate=learning_rate, beta1=beta1)\n",
    "        d_optimizer = tf.train.AdamOptimizer(learning_rate=learning_rate, beta1=beta1)\n",
    "\n",
    "        g_optimizer = g_optimizer.minimize(losses[self.g], var_list=self.g.variables)\n",
    "        d_optimizer = d_optimizer.minimize(losses[self.d], var_list=self.d.variables)\n",
    "        with tf.control_dependencies([g_optimizer, d_optimizer]):\n",
    "            return tf.no_op(name=\"train\")\n",
    "\n",
    "    def sample_images(self, row=5, col=12, inputs=None, epoch=None):\n",
    "        images = self.g(inputs, training=True)\n",
    "        #save_imgs(images, epoch=epoch)\n",
    "        return images\n",
    "    \n",
    "    def cache_d_weights(self):\n",
    "        self.d_weights = self.d.variables\n",
    "\n",
    "    def load_d_weights(self):\n",
    "        self.d.variables = self.d_weights\n"
   ]
  },
  {
   "cell_type": "code",
   "execution_count": 7,
   "metadata": {
    "collapsed": true
   },
   "outputs": [],
   "source": [
    "import numpy as np\n",
    "\n",
    "X_train = np.load(\"irasutoya_10575x96x96x3_jpg.npy\")\n",
    "X_train = X_train/255\n",
    "\n",
    "z_dim = 100\n",
    "batch_size = 64\n",
    "epochs = 50\n",
    "steps = 5\n",
    "display_epoch = 10\n",
    "param_save_epoch = 100000\n",
    "loss = {\"dis_loss\":[], \"gen_loss\":[]}"
   ]
  },
  {
   "cell_type": "code",
   "execution_count": 8,
   "metadata": {
    "collapsed": false
   },
   "outputs": [
    {
     "name": "stdout",
     "output_type": "stream",
     "text": [
      "saving images\n"
     ]
    },
    {
     "ename": "TypeError",
     "evalue": "Fetch argument None has invalid type <class 'NoneType'>",
     "output_type": "error",
     "traceback": [
      "\u001b[0;31m---------------------------------------------------------------------------\u001b[0m",
      "\u001b[0;31mTypeError\u001b[0m                                 Traceback (most recent call last)",
      "\u001b[0;32m<ipython-input-8-b669f36f521d>\u001b[0m in \u001b[0;36m<module>\u001b[0;34m()\u001b[0m\n\u001b[1;32m     33\u001b[0m             \u001b[0;32mif\u001b[0m \u001b[0mstep\u001b[0m \u001b[0;34m==\u001b[0m \u001b[0;36m0\u001b[0m\u001b[0;34m:\u001b[0m\u001b[0;34m\u001b[0m\u001b[0m\n\u001b[1;32m     34\u001b[0m                 \u001b[0;31m# 初回だけdiscriminatorのvariableを保存\u001b[0m\u001b[0;34m\u001b[0m\u001b[0;34m\u001b[0m\u001b[0m\n\u001b[0;32m---> 35\u001b[0;31m                 \u001b[0msess\u001b[0m\u001b[0;34m.\u001b[0m\u001b[0mrun\u001b[0m\u001b[0;34m(\u001b[0m\u001b[0mcache\u001b[0m\u001b[0;34m)\u001b[0m\u001b[0;34m\u001b[0m\u001b[0m\n\u001b[0m\u001b[1;32m     36\u001b[0m                 \u001b[0;31m#dis_var = sess.run(dcgan.d.variables)\u001b[0m\u001b[0;34m\u001b[0m\u001b[0;34m\u001b[0m\u001b[0m\n\u001b[1;32m     37\u001b[0m                 \u001b[0mprint\u001b[0m\u001b[0;34m(\u001b[0m\u001b[0mtype\u001b[0m\u001b[0;34m(\u001b[0m\u001b[0mdis_var\u001b[0m\u001b[0;34m)\u001b[0m\u001b[0;34m)\u001b[0m\u001b[0;34m\u001b[0m\u001b[0m\n",
      "\u001b[0;32m/home/ujitoko/anaconda3/lib/python3.6/site-packages/tensorflow/python/client/session.py\u001b[0m in \u001b[0;36mrun\u001b[0;34m(self, fetches, feed_dict, options, run_metadata)\u001b[0m\n\u001b[1;32m    765\u001b[0m     \u001b[0;32mtry\u001b[0m\u001b[0;34m:\u001b[0m\u001b[0;34m\u001b[0m\u001b[0m\n\u001b[1;32m    766\u001b[0m       result = self._run(None, fetches, feed_dict, options_ptr,\n\u001b[0;32m--> 767\u001b[0;31m                          run_metadata_ptr)\n\u001b[0m\u001b[1;32m    768\u001b[0m       \u001b[0;32mif\u001b[0m \u001b[0mrun_metadata\u001b[0m\u001b[0;34m:\u001b[0m\u001b[0;34m\u001b[0m\u001b[0m\n\u001b[1;32m    769\u001b[0m         \u001b[0mproto_data\u001b[0m \u001b[0;34m=\u001b[0m \u001b[0mtf_session\u001b[0m\u001b[0;34m.\u001b[0m\u001b[0mTF_GetBuffer\u001b[0m\u001b[0;34m(\u001b[0m\u001b[0mrun_metadata_ptr\u001b[0m\u001b[0;34m)\u001b[0m\u001b[0;34m\u001b[0m\u001b[0m\n",
      "\u001b[0;32m/home/ujitoko/anaconda3/lib/python3.6/site-packages/tensorflow/python/client/session.py\u001b[0m in \u001b[0;36m_run\u001b[0;34m(self, handle, fetches, feed_dict, options, run_metadata)\u001b[0m\n\u001b[1;32m    950\u001b[0m \u001b[0;34m\u001b[0m\u001b[0m\n\u001b[1;32m    951\u001b[0m     \u001b[0;31m# Create a fetch handler to take care of the structure of fetches.\u001b[0m\u001b[0;34m\u001b[0m\u001b[0;34m\u001b[0m\u001b[0m\n\u001b[0;32m--> 952\u001b[0;31m     \u001b[0mfetch_handler\u001b[0m \u001b[0;34m=\u001b[0m \u001b[0m_FetchHandler\u001b[0m\u001b[0;34m(\u001b[0m\u001b[0mself\u001b[0m\u001b[0;34m.\u001b[0m\u001b[0m_graph\u001b[0m\u001b[0;34m,\u001b[0m \u001b[0mfetches\u001b[0m\u001b[0;34m,\u001b[0m \u001b[0mfeed_dict_string\u001b[0m\u001b[0;34m)\u001b[0m\u001b[0;34m\u001b[0m\u001b[0m\n\u001b[0m\u001b[1;32m    953\u001b[0m \u001b[0;34m\u001b[0m\u001b[0m\n\u001b[1;32m    954\u001b[0m     \u001b[0;31m# Run request and get response.\u001b[0m\u001b[0;34m\u001b[0m\u001b[0;34m\u001b[0m\u001b[0m\n",
      "\u001b[0;32m/home/ujitoko/anaconda3/lib/python3.6/site-packages/tensorflow/python/client/session.py\u001b[0m in \u001b[0;36m__init__\u001b[0;34m(self, graph, fetches, feeds)\u001b[0m\n\u001b[1;32m    406\u001b[0m     \"\"\"\n\u001b[1;32m    407\u001b[0m     \u001b[0;32mwith\u001b[0m \u001b[0mgraph\u001b[0m\u001b[0;34m.\u001b[0m\u001b[0mas_default\u001b[0m\u001b[0;34m(\u001b[0m\u001b[0;34m)\u001b[0m\u001b[0;34m:\u001b[0m\u001b[0;34m\u001b[0m\u001b[0m\n\u001b[0;32m--> 408\u001b[0;31m       \u001b[0mself\u001b[0m\u001b[0;34m.\u001b[0m\u001b[0m_fetch_mapper\u001b[0m \u001b[0;34m=\u001b[0m \u001b[0m_FetchMapper\u001b[0m\u001b[0;34m.\u001b[0m\u001b[0mfor_fetch\u001b[0m\u001b[0;34m(\u001b[0m\u001b[0mfetches\u001b[0m\u001b[0;34m)\u001b[0m\u001b[0;34m\u001b[0m\u001b[0m\n\u001b[0m\u001b[1;32m    409\u001b[0m     \u001b[0mself\u001b[0m\u001b[0;34m.\u001b[0m\u001b[0m_fetches\u001b[0m \u001b[0;34m=\u001b[0m \u001b[0;34m[\u001b[0m\u001b[0;34m]\u001b[0m\u001b[0;34m\u001b[0m\u001b[0m\n\u001b[1;32m    410\u001b[0m     \u001b[0mself\u001b[0m\u001b[0;34m.\u001b[0m\u001b[0m_targets\u001b[0m \u001b[0;34m=\u001b[0m \u001b[0;34m[\u001b[0m\u001b[0;34m]\u001b[0m\u001b[0;34m\u001b[0m\u001b[0m\n",
      "\u001b[0;32m/home/ujitoko/anaconda3/lib/python3.6/site-packages/tensorflow/python/client/session.py\u001b[0m in \u001b[0;36mfor_fetch\u001b[0;34m(fetch)\u001b[0m\n\u001b[1;32m    225\u001b[0m     \u001b[0;32mif\u001b[0m \u001b[0mfetch\u001b[0m \u001b[0;32mis\u001b[0m \u001b[0;32mNone\u001b[0m\u001b[0;34m:\u001b[0m\u001b[0;34m\u001b[0m\u001b[0m\n\u001b[1;32m    226\u001b[0m       raise TypeError('Fetch argument %r has invalid type %r' %\n\u001b[0;32m--> 227\u001b[0;31m                       (fetch, type(fetch)))\n\u001b[0m\u001b[1;32m    228\u001b[0m     \u001b[0;32melif\u001b[0m \u001b[0misinstance\u001b[0m\u001b[0;34m(\u001b[0m\u001b[0mfetch\u001b[0m\u001b[0;34m,\u001b[0m \u001b[0;34m(\u001b[0m\u001b[0mlist\u001b[0m\u001b[0;34m,\u001b[0m \u001b[0mtuple\u001b[0m\u001b[0;34m)\u001b[0m\u001b[0;34m)\u001b[0m\u001b[0;34m:\u001b[0m\u001b[0;34m\u001b[0m\u001b[0m\n\u001b[1;32m    229\u001b[0m       \u001b[0;31m# NOTE(touts): This is also the code path for namedtuples.\u001b[0m\u001b[0;34m\u001b[0m\u001b[0;34m\u001b[0m\u001b[0m\n",
      "\u001b[0;31mTypeError\u001b[0m: Fetch argument None has invalid type <class 'NoneType'>"
     ]
    }
   ],
   "source": [
    "p_noise = tf.placeholder(tf.float32, [None, z_dim])\n",
    "noise_check = np.random.uniform(-1, 1, size=[60, z_dim]).astype(np.float32)\n",
    "\n",
    "dcgan = DCGAN()\n",
    "p_train_images = tf.placeholder(tf.float32, [batch_size, 96, 96, 3])\n",
    "losses = dcgan.loss(traindata=p_train_images)\n",
    "train_op = dcgan.train(losses)\n",
    "\n",
    "saver = tf.train.Saver()\n",
    "cache = dcgan.cache_d_weights()\n",
    "load = dcgan.load_d_weights()\n",
    "\n",
    "with tf.Session() as sess:\n",
    "    sess.run(tf.global_variables_initializer())\n",
    "    \n",
    "    for epoch in range(epochs):\n",
    "        \n",
    "        if epoch % display_epoch == 0:\n",
    "            #imgs_gen = dcgan.sample_images(inputs=noise_check).eval()\n",
    "            print(\"saving images\")\n",
    "            #save_imgs(imgs_gen, epoch=epoch)\n",
    "\n",
    "        for step in range(steps):\n",
    "            # ノイズから生成データを生成\n",
    "            noise = np.random.uniform(-1, 1, size=[batch_size, z_dim])\n",
    "\n",
    "            # 訓練データを抜粋\n",
    "            rand_index = np.random.randint(0, X_train.shape[0], size=batch_size)\n",
    "            exImgs = X_train[rand_index, :].astype(np.float32)\n",
    "\n",
    "            _, g_loss_value, d_loss_value = sess.run([train_op, losses[dcgan.g], losses[dcgan.d]], feed_dict={p_train_images: exImgs})\n",
    "\n",
    "            if step == 0:\n",
    "                # 初回だけdiscriminatorのvariableを保存\n",
    "                sess.run(cache)\n",
    "                #dis_var = sess.run(dcgan.d.variables)\n",
    "                print(type(dis_var))\n",
    "                print(dis_var)\n",
    "        sess.run(load)\n",
    "#        dcgan.load_d_weights().eval()\n",
    "#        dcgan.d.variables = dis_var\n",
    "#        sess.run(dcgan.d.variables)\n",
    "\n",
    "        # 結果をappend\n",
    "        loss[\"dis_loss\"].append(d_loss_value)\n",
    "        loss[\"gen_loss\"].append(g_loss_value)\n",
    "        print(\"epoch:\" + str(epoch))\n",
    "        # グラフの描画（余裕があったら）\n",
    "        if epoch % display_epoch == 0:\n",
    "            save_metrics(loss, epoch)\n",
    "\n",
    "        if epoch % param_save_epoch == 0:\n",
    "            saver.save(sess, \"./model/dcgan_model\" + str(epoch) + \".ckpt\")"
   ]
  },
  {
   "cell_type": "code",
   "execution_count": null,
   "metadata": {
    "collapsed": true
   },
   "outputs": [],
   "source": []
  },
  {
   "cell_type": "code",
   "execution_count": null,
   "metadata": {
    "collapsed": true
   },
   "outputs": [],
   "source": []
  },
  {
   "cell_type": "code",
   "execution_count": null,
   "metadata": {
    "collapsed": true
   },
   "outputs": [],
   "source": []
  }
 ],
 "metadata": {
  "kernelspec": {
   "display_name": "Python 3",
   "language": "python",
   "name": "python3"
  },
  "language_info": {
   "codemirror_mode": {
    "name": "ipython",
    "version": 3
   },
   "file_extension": ".py",
   "mimetype": "text/x-python",
   "name": "python",
   "nbconvert_exporter": "python",
   "pygments_lexer": "ipython3",
   "version": "3.6.0"
  }
 },
 "nbformat": 4,
 "nbformat_minor": 0
}
