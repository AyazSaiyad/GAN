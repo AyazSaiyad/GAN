{
 "cells": [
  {
   "cell_type": "markdown",
   "metadata": {},
   "source": [
    "# Check color channels"
   ]
  },
  {
   "cell_type": "code",
   "execution_count": null,
   "metadata": {
    "collapsed": false
   },
   "outputs": [],
   "source": [
    "import os\n",
    "from PIL import Image\n",
    "import numpy as np\n",
    "import matplotlib.pyplot as plt\n",
    "\n",
    "#from util import *\n",
    "#from ops import *"
   ]
  },
  {
   "cell_type": "code",
   "execution_count": null,
   "metadata": {
    "collapsed": false
   },
   "outputs": [],
   "source": [
    "def checkColorChannel(src):\n",
    "    files = os.listdir(src)\n",
    "    \n",
    "    firstImg = Image.open(src + \"/\" + files[0])\n",
    "    np_firstImg = np.asarray(firstImg)\n",
    "    print(\"first\" + str(np_firstImg.shape))\n",
    "\n",
    "    for i in range(len(files)):\n",
    "        try:\n",
    "            img = Image.open(src + \"/\" + files[i])\n",
    "            np_img = np.asarray(img)\n",
    "        except IOError:\n",
    "            os.remove(src + \"/\" + files[i])\n",
    "            continue\n",
    "\n",
    "        if len(np_img.shape) < len(np_firstImg.shape):\n",
    "            print(i)\n",
    "            os.remove(src + \"/\" + files[i])\n",
    "            continue\n",
    "\n",
    "        if np_img.shape[2] != np_firstImg.shape[2]:\n",
    "            print(i)\n",
    "            os.remove(src + \"/\" + files[i])\n",
    "            \n",
    "            \n",
    "checkColorChannel(\"GoogleImg\")"
   ]
  },
  {
   "cell_type": "code",
   "execution_count": null,
   "metadata": {
    "collapsed": true
   },
   "outputs": [],
   "source": []
  }
 ],
 "metadata": {
  "anaconda-cloud": {},
  "kernelspec": {
   "display_name": "Python 3",
   "language": "python",
   "name": "python3"
  },
  "language_info": {
   "codemirror_mode": {
    "name": "ipython",
    "version": 3
   },
   "file_extension": ".py",
   "mimetype": "text/x-python",
   "name": "python",
   "nbconvert_exporter": "python",
   "pygments_lexer": "ipython3",
   "version": "3.6.0"
  }
 },
 "nbformat": 4,
 "nbformat_minor": 1
}
