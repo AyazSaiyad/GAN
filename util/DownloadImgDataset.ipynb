{
 "cells": [
  {
   "cell_type": "code",
   "execution_count": 1,
   "metadata": {
    "collapsed": true
   },
   "outputs": [],
   "source": [
    "import csv\n",
    "import os"
   ]
  },
  {
   "cell_type": "code",
   "execution_count": 3,
   "metadata": {
    "collapsed": false
   },
   "outputs": [],
   "source": [
    "import pandas\n",
    "\n",
    "def open_with_pandas(filename):\n",
    "    df = pandas.read_csv(filename)\n",
    "    header = df.columns.values.tolist()\n",
    "    data = df.values\n",
    "    return df, header, data\n",
    "\n",
    "df, header, data = open_with_pandas(\"images_2016_08/train/images.csv\")"
   ]
  },
  {
   "cell_type": "code",
   "execution_count": 4,
   "metadata": {
    "collapsed": false
   },
   "outputs": [
    {
     "data": {
      "text/plain": [
       "array(['000002b66c9c498e', 'train',\n",
       "       'https://c7.staticflickr.com/6/5499/10245691204_98dce75b5a_o.jpg',\n",
       "       'https://www.flickr.com/photos/43584526@N06/10245691204',\n",
       "       'https://creativecommons.org/licenses/by/2.0/',\n",
       "       'https://www.flickr.com/people/43584526@N06/',\n",
       "       'Mae Catherine Melchor',\n",
       "       '#latepost #lategram #anniversary #celebration sa #Coron #surprise #love #cake #wine #flowers #chocolates #CoronEscapade #friends',\n",
       "       141489, 'XKWUMkcNib71Ge6Yq1/0/g==',\n",
       "       'https://c7.staticflickr.com/6/5499/10245691204_ace6136324_z.jpg'], dtype=object)"
      ]
     },
     "execution_count": 4,
     "metadata": {},
     "output_type": "execute_result"
    }
   ],
   "source": [
    "data[0]"
   ]
  },
  {
   "cell_type": "code",
   "execution_count": null,
   "metadata": {
    "collapsed": false
   },
   "outputs": [],
   "source": [
    "import sys, urllib.request\n",
    "import os.path\n",
    "def download(url, i):\n",
    "    img = urllib.request.urlopen(url)\n",
    "    localfile = open(\"GoogleImg/\"+os.path.basename(url), \"wb\")\n",
    "    localfile.write(img.read())\n",
    "    img.close()\n",
    "    localfile.close()\n",
    "\n",
    "i = 0\n",
    "for d in data:\n",
    "    i += 1\n",
    "    if i > 10000:\n",
    "        break;\n",
    "    \n",
    "    download(d[2], i)\n"
   ]
  },
  {
   "cell_type": "code",
   "execution_count": null,
   "metadata": {
    "collapsed": true
   },
   "outputs": [],
   "source": []
  }
 ],
 "metadata": {
  "kernelspec": {
   "display_name": "Python 3",
   "language": "python",
   "name": "python3"
  },
  "language_info": {
   "codemirror_mode": {
    "name": "ipython",
    "version": 3
   },
   "file_extension": ".py",
   "mimetype": "text/x-python",
   "name": "python",
   "nbconvert_exporter": "python",
   "pygments_lexer": "ipython3",
   "version": "3.6.0"
  }
 },
 "nbformat": 4,
 "nbformat_minor": 2
}
