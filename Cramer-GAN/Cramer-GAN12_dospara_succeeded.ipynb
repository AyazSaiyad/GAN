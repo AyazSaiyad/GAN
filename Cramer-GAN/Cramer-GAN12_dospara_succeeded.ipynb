{
 "cells": [
  {
   "cell_type": "markdown",
   "metadata": {},
   "source": [
    "# Cramer GAN implementation by tensorflow"
   ]
  },
  {
   "cell_type": "code",
   "execution_count": null,
   "metadata": {
    "collapsed": false
   },
   "outputs": [],
   "source": [
    "import tensorflow as tf\n",
    "import os\n",
    "from PIL import Image\n",
    "import numpy as np\n",
    "import matplotlib.pyplot as plt"
   ]
  },
  {
   "cell_type": "markdown",
   "metadata": {
    "collapsed": true
   },
   "source": [
    "# utility func"
   ]
  },
  {
   "cell_type": "code",
   "execution_count": null,
   "metadata": {
    "collapsed": true
   },
   "outputs": [],
   "source": [
    "# save metrics\n",
    "def save_metrics(metrics, epoch=None):\n",
    "    # make directory if there is not\n",
    "    path = \"metrics\"\n",
    "    if not os.path.isdir(path):\n",
    "        os.makedirs(path)\n",
    "\n",
    "    # save metrics\n",
    "    plt.figure(figsize=(10,8))\n",
    "    plt.plot(metrics[\"dis_loss\"], label=\"discriminative loss\", color=\"b\")\n",
    "    plt.legend()\n",
    "    plt.savefig(os.path.join(path, \"dloss\" + str(epoch) + \".png\"))\n",
    "    plt.close()\n",
    "\n",
    "    plt.figure(figsize=(10,8))\n",
    "    plt.plot(metrics[\"gen_loss\"], label=\"generative loss\", color=\"r\")\n",
    "    plt.legend()\n",
    "    plt.savefig(os.path.join(path, \"g_loss\" + str(epoch) + \".png\"))\n",
    "    plt.close()\n",
    "\n",
    "    plt.figure(figsize=(10,8))\n",
    "    plt.plot(metrics[\"gen_loss\"], label=\"generative loss\", color=\"r\")\n",
    "    plt.plot(metrics[\"dis_loss\"], label=\"discriminative loss\", color=\"b\")\n",
    "    plt.legend()\n",
    "    plt.savefig(os.path.join(path, \"both_loss\" + str(epoch) + \".png\"))\n",
    "    plt.close()"
   ]
  },
  {
   "cell_type": "code",
   "execution_count": null,
   "metadata": {
    "collapsed": true
   },
   "outputs": [],
   "source": [
    "# plot images\n",
    "def save_imgs(images, plot_dim=(5,12), size=(12,5), epoch=None):\n",
    "    # make directory if there is not\n",
    "    path = \"generated_figures\"\n",
    "    if not os.path.isdir(path):\n",
    "        os.makedirs(path)\n",
    "\n",
    "    num_examples = plot_dim[0]*plot_dim[1]\n",
    "    num_examples = 60\n",
    "    fig = plt.figure(figsize=size)\n",
    "\n",
    "    for i in range(num_examples):\n",
    "        plt.subplot(plot_dim[0], plot_dim[1], i+1)\n",
    "        img = images[i, :]\n",
    "        img = img.reshape((96, 96, 3))\n",
    "        plt.tight_layout()\n",
    "        plt.imshow(img)\n",
    "        plt.axis(\"off\")\n",
    "    plt.subplots_adjust(wspace=0.1, hspace=0.1)\n",
    "    plt.savefig(os.path.join(path, str(epoch) + \".png\"))\n",
    "    plt.close()"
   ]
  },
  {
   "cell_type": "markdown",
   "metadata": {},
   "source": [
    "# model"
   ]
  },
  {
   "cell_type": "code",
   "execution_count": null,
   "metadata": {
    "collapsed": false
   },
   "outputs": [],
   "source": [
    "class Generator:\n",
    "    def __init__(self):\n",
    "        self.reuse = False\n",
    "        self.initializer = tf.contrib.layers.xavier_initializer()\n",
    "        self.X_dim = 96*96*3\n",
    "        self.z_dim = 100\n",
    "\n",
    "        self.depths = [1024, 512, 256, 128, 3]\n",
    "        self.s_size = 6\n",
    "\n",
    "    def __call__(self, inputs, training=False):\n",
    "        with tf.variable_scope('g', reuse=self.reuse):\n",
    "            inputs = tf.reshape(inputs, [-1, self.z_dim])\n",
    "            fc1 = inputs\n",
    "#            fc1 = tf.layers.dense(inputs, 1024)\n",
    "#            fc1 = tf.nn.relu(fc1)\n",
    "            fc2 = tf.layers.dense(fc1, 6*6*512)\n",
    "            fc2 = tf.reshape(fc2, [-1, 6,6,512])\n",
    "            fc2 = tf.nn.relu(fc2)\n",
    "            conv1 = tf.contrib.layers.conv2d_transpose(fc2, 512, [4,4],[2,2]) # 12\n",
    "            conv1 = tf.nn.relu(conv1)\n",
    "            conv2 = tf.contrib.layers.conv2d_transpose(conv1, 256, [4,4],[2,2]) # 24\n",
    "            conv2 = tf.nn.relu(conv2)\n",
    "            conv3 = tf.contrib.layers.conv2d_transpose(conv2, 128, [4,4],[2,2]) # 48\n",
    "            conv3 = tf.nn.relu(conv3)\n",
    "            conv4 = tf.contrib.layers.conv2d_transpose(conv3, 3, [4,4],[2,2], activation_fn=tf.sigmoid)\n",
    "            conv4 = tf.reshape(conv4, [-1, 96*96*3])\n",
    "            outputs = conv4\n",
    "        \"\"\"\n",
    "\n",
    "            # reshape from inputs\n",
    "            outputs = tf.reshape(inputs, [-1, self.z_dim])\n",
    "            \n",
    "            with tf.variable_scope('reshape'):\n",
    "                outputs = tf.layers.dense(outputs, self.depths[0] * self.s_size * self.s_size)                \n",
    "                outputs = tf.reshape(outputs, [-1, self.s_size, self.s_size, self.depths[0]])\n",
    "                outputs = tf.nn.relu(tf.layers.batch_normalization(outputs, training=training), name='outputs')\n",
    "\n",
    "            # deconvolution (transpose of convolution) x 4\n",
    "            with tf.variable_scope('deconv1'):\n",
    "                outputs = tf.layers.conv2d_transpose(outputs, self.depths[1], [5, 5], strides=(2, 2), padding='SAME')\n",
    "                outputs = tf.nn.relu(outputs, name='outputs')\n",
    "            with tf.variable_scope('deconv2'):\n",
    "                outputs = tf.layers.conv2d_transpose(outputs, self.depths[2], [5, 5], strides=(2, 2), padding='SAME')\n",
    "                outputs = tf.nn.relu(outputs, name='outputs')\n",
    "            with tf.variable_scope('deconv3'):\n",
    "                outputs = tf.layers.conv2d_transpose(outputs, self.depths[3], [5, 5], strides=(2, 2), padding='SAME')\n",
    "                outputs = tf.nn.relu(outputs, name='outputs')\n",
    "            with tf.variable_scope('deconv4'):\n",
    "                outputs = tf.layers.conv2d_transpose(outputs, self.depths[4], [5, 5], strides=(2, 2), padding='SAME')\n",
    "\n",
    "            # output images\n",
    "            with tf.variable_scope('tanh'):\n",
    "                outputs = tf.sigmoid(outputs)\n",
    "        \"\"\"\n",
    "        self.reuse = True\n",
    "        self.variables = tf.get_collection(tf.GraphKeys.TRAINABLE_VARIABLES, scope='g')\n",
    "        return outputs"
   ]
  },
  {
   "cell_type": "code",
   "execution_count": null,
   "metadata": {
    "collapsed": false
   },
   "outputs": [],
   "source": [
    "class Discriminator:\n",
    "    def __init__(self, batch_size=32):\n",
    "        self.reuse = False\n",
    "        self.X_dim = 96*96*3\n",
    "        self.initializer = tf.contrib.layers.xavier_initializer()\n",
    "\n",
    "        self.depths = [3, 64, 128, 256, 512]\n",
    "        self.s_size = 6\n",
    "\n",
    "    def __call__(self, inputs, training=False, name=''):\n",
    "        def leaky_relu(x, leak=0.2, name='outputs'):\n",
    "            return tf.maximum(x, x * leak, name=name)\n",
    "\n",
    "        with tf.name_scope('d' + name), tf.variable_scope('d', reuse=self.reuse):\n",
    "            x = tf.reshape(inputs, [-1, 96, 96, 3])\n",
    "            conv1 = tf.layers.conv2d(x, 64, [4,4], [2,2])\n",
    "            conv1 = leaky_relu(conv1)\n",
    "            conv2 = tf.layers.conv2d(conv1, 128, [4,4], [2,2])\n",
    "            conv2 = leaky_relu(conv2)\n",
    "            conv3 = tf.layers.conv2d(conv2, 256, [4,4], [2,2])\n",
    "            conv3 = leaky_relu(conv3)\n",
    "            conv4 = tf.layers.conv2d(conv3, 512, [4,4], [2,2])\n",
    "            conv4 = leaky_relu(conv4)\n",
    "            conv4 = tf.contrib.layers.flatten(conv4)\n",
    "            fc1 = tf.layers.dense(conv4, 512)\n",
    "            fc1 = leaky_relu(fc1)\n",
    "            fc2 = tf.layers.dense(fc1, 256)\n",
    "            \"\"\"\n",
    "            # convolution x 4\n",
    "            outputs = tf.reshape(inputs, [-1, 96, 96, 3])\n",
    "\n",
    "            with tf.variable_scope('conv1'):\n",
    "                outputs = tf.layers.conv2d(outputs, self.depths[1], [5, 5], strides=(2, 2), padding='SAME')\n",
    "                outputs = leaky_relu(outputs, name='outputs')\n",
    "            with tf.variable_scope('conv2'):\n",
    "                outputs = tf.layers.conv2d(outputs, self.depths[2], [5, 5], strides=(2, 2), padding='SAME')\n",
    "                outputs = leaky_relu(outputs, name='outputs')\n",
    "            with tf.variable_scope('conv3'):\n",
    "                outputs = tf.layers.conv2d(outputs, self.depths[3], [5, 5], strides=(2, 2), padding='SAME')\n",
    "                outputs = leaky_relu(outputs, name='outputs')\n",
    "            with tf.variable_scope('conv4'):\n",
    "                outputs = tf.layers.conv2d(outputs, self.depths[4], [5, 5], strides=(2, 2), padding='SAME')\n",
    "                outputs = leaky_relu(outputs, name='outputs')\n",
    "            with tf.variable_scope('classify'):\n",
    "                outputs = tf.layers.dense(outputs, 256, name='outputs')\n",
    "            \"\"\"\n",
    "        outputs = fc2\n",
    "        self.reuse = True\n",
    "        self.variables = tf.get_collection(tf.GraphKeys.TRAINABLE_VARIABLES, scope='d')\n",
    "        return outputs"
   ]
  },
  {
   "cell_type": "code",
   "execution_count": null,
   "metadata": {
    "collapsed": true
   },
   "outputs": [],
   "source": [
    "# f(x) = ||h(x) - h(x_)|| - ||h(x)||\n",
    "class Critic(object):\n",
    "    def __init__(self, h):\n",
    "        self.h = h\n",
    "    def __call__(self, x, x_):\n",
    "        return tf.norm(self.h(x) - self.h(x_), axis=1) - tf.norm(self.h(x), axis=1)\n",
    "\n",
    "# f(x) = ||h(x) - h(x_)||\n",
    "class calc_Norm(object):\n",
    "    def __init__(self, h):\n",
    "        self.h = h\n",
    "    def __call__(self, x, x_):\n",
    "        return tf.norm(self.h(x) -self.h(x_))"
   ]
  },
  {
   "cell_type": "code",
   "execution_count": null,
   "metadata": {
    "collapsed": false
   },
   "outputs": [],
   "source": [
    "class GAN:\n",
    "    def __init__(self, batch_size=32):\n",
    "        self.batch_size = batch_size\n",
    "        self.g = Generator()\n",
    "        self.d = Discriminator()\n",
    "        self.z_dim = 100\n",
    "        self.critic = Critic(self.d)\n",
    "        self.calcNorm = calc_Norm(self.d)\n",
    "\n",
    "    def loss(self, Xr, z1, z2):\n",
    "        Xg = self.g(z1)\n",
    "        Xg2 = self.g(z2)\n",
    "        Xg = tf.reshape(Xg, [batch_size, -1])\n",
    "        Xg2 = tf.reshape(Xg2, [batch_size, -1])\n",
    "\n",
    "        L_surrogate = tf.reduce_mean(self.critic(Xr, Xg2) - self.critic(Xg, Xg2))\n",
    "        L_critic = -L_surrogate\n",
    "\n",
    "        epsilon = tf.random_uniform([], 0.0, 1.0) # 怪しい\n",
    "\n",
    "        Xhat = epsilon * Xr + (1-epsilon) * Xg\n",
    "        dhat = self.critic(Xhat, Xg2)\n",
    "\n",
    "        ddx = tf.gradients(dhat, Xhat)[0]\n",
    "        print((ddx.get_shape().as_list()))\n",
    "        ddx = tf.norm(ddx, axis=1)\n",
    "        ddx = tf.reduce_mean(tf.square(ddx - 1.0) * 10)\n",
    "\n",
    "        L_critic = L_critic + ddx\n",
    "        #L_surrogate = self.calcNorm(Xr,Xg) + self.calcNorm(Xr,Xg2) - self.calcNorm(Xg, Xg2)\n",
    "\n",
    "        # add each losses to collection\n",
    "        tf.add_to_collection(\n",
    "            'g_losses',\n",
    "            L_surrogate)\n",
    "\n",
    "        tf.add_to_collection(\n",
    "            'd_losses',\n",
    "            L_critic\n",
    "        )\n",
    "\n",
    "        return {\n",
    "            self.g: tf.add_n(tf.get_collection('g_losses'), name='total_g_loss'),\n",
    "            self.d: tf.add_n(tf.get_collection('d_losses'), name='total_d_loss'),\n",
    "        }\n",
    "\n",
    "    def d_train(self, losses, learning_rate=1e-4, beta1=0.5, beta2=0.9):\n",
    "        d_opt = tf.train.AdamOptimizer(learning_rate=learning_rate, beta1=beta1, beta2=beta2)\n",
    "        d_opt_op = d_opt.minimize(losses[self.d], var_list=self.d.variables)\n",
    "        return d_opt_op\n",
    "\n",
    "    def g_train(self, losses, learning_rate=1e-4, beta1=0.5, beta2=0.9):\n",
    "        g_opt = tf.train.AdamOptimizer(learning_rate=learning_rate, beta1=beta1, beta2=beta2)\n",
    "        g_opt_op = g_opt.minimize(losses[self.g], var_list=self.g.variables)\n",
    "        return g_opt_op\n",
    "\n",
    "    def sample_images(self, row=5, col=12, inputs=None, epoch=None):\n",
    "        images = self.g(inputs, training=True)\n",
    "        return images"
   ]
  },
  {
   "cell_type": "code",
   "execution_count": null,
   "metadata": {
    "collapsed": false
   },
   "outputs": [],
   "source": [
    "import numpy as np\n",
    "\n",
    "X_train = np.load(\"irasutoya_face_1813x96x96x3_jpg.npy\")\n",
    "X_train = X_train/255\n",
    "X_dim = 96*96*3\n",
    "z_dim = 100\n",
    "batch_size = 32\n",
    "epochs = 500000\n",
    "display_epoch = 100\n",
    "param_save_epoch = 10000\n",
    "loss = {\"dis_loss\":[], \"gen_loss\":[]}"
   ]
  },
  {
   "cell_type": "markdown",
   "metadata": {},
   "source": [
    "# main func"
   ]
  },
  {
   "cell_type": "code",
   "execution_count": null,
   "metadata": {
    "collapsed": false,
    "scrolled": false
   },
   "outputs": [],
   "source": [
    "p_noise = tf.placeholder(tf.float32, [None, z_dim])\n",
    "noise_check = np.random.uniform(-1, 1, size=[60, z_dim]).astype(np.float32)\n",
    "\n",
    "Xr = tf.placeholder(tf.float32, [None, X_dim])\n",
    "Z1 = tf.placeholder(tf.float32, [None, z_dim])\n",
    "Z2 = tf.placeholder(tf.float32, [None, z_dim])\n",
    "\n",
    "gan = GAN()\n",
    "\n",
    "losses = gan.loss(Xr=Xr, z1=Z1, z2=Z2)\n",
    "d_train_op = gan.d_train(losses)\n",
    "g_train_op = gan.g_train(losses)\n",
    "\n",
    "saver = tf.train.Saver()\n",
    "#%debug\n",
    "with tf.Session() as sess:\n",
    "    sess.run(tf.global_variables_initializer())\n",
    "    for epoch in range(epochs):\n",
    "        if epoch % display_epoch == 0:\n",
    "            imgs_gen = gan.sample_images(inputs=noise_check).eval()\n",
    "            print(\"saving images\")\n",
    "            save_imgs(imgs_gen, epoch=epoch)\n",
    "\n",
    "        for _ in range(5):\n",
    "            # 訓練データを抜粋\n",
    "            rand_index = np.random.randint(0, X_train.shape[0], size=batch_size)\n",
    "            X_mb = X_train[rand_index, :].astype(np.float32)\n",
    "            X_mb = X_mb.reshape([-1, X_dim])\n",
    "\n",
    "            z1 = np.random.uniform(-1, 1, size=[batch_size, z_dim])\n",
    "            z2 = np.random.uniform(-1, 1, size=[batch_size, z_dim])\n",
    "\n",
    "            _, d_loss_value = sess.run([d_train_op, losses[gan.d]], feed_dict={Xr: X_mb, Z1:z1, Z2:z2})\n",
    "\n",
    "\n",
    "        # 訓練データを抜粋\n",
    "        rand_index = np.random.randint(0, X_train.shape[0], size=batch_size)\n",
    "        X_mb = X_train[rand_index, :].astype(np.float32)\n",
    "        X_mb = X_mb.reshape([-1, X_dim])\n",
    "        z1 = np.random.uniform(-1, 1, size=[batch_size, z_dim])\n",
    "        z2 = np.random.uniform(-1, 1, size=[batch_size, z_dim])\n",
    "        _, g_loss_value, = sess.run([g_train_op, losses[gan.g]], feed_dict={Xr: X_mb, Z1:z1, Z2:z2})\n",
    "\n",
    "        # 結果をappend\n",
    "        loss[\"dis_loss\"].append(d_loss_value)\n",
    "        loss[\"gen_loss\"].append(g_loss_value)\n",
    "        print(\"epoch:\" + str(epoch))\n",
    "        # グラフの描画（余裕があったら）\n",
    "        if epoch % display_epoch == 0:\n",
    "            save_metrics(loss, epoch)\n",
    "\n",
    "        if epoch % param_save_epoch == 0:\n",
    "            path = \"model\"\n",
    "            if not os.path.isdir(path):\n",
    "                os.makedirs(path)\n",
    "\n",
    "            saver.save(sess, \"./model/dcgan_model\" + str(epoch) + \".ckpt\")"
   ]
  },
  {
   "cell_type": "code",
   "execution_count": null,
   "metadata": {
    "collapsed": false
   },
   "outputs": [],
   "source": [
    "import numpy as np\n",
    "\n",
    "a = np.arange(10)\n",
    "print(a)\n",
    "print(a.shape)\n",
    "\n",
    "b = a - 1\n",
    "print(b)\n",
    "print(b.shape)\n",
    "print(np.abs(b))\n",
    "#np.abs\n",
    "#tf.pow((tf.abs(delta)-1), 2))"
   ]
  },
  {
   "cell_type": "code",
   "execution_count": null,
   "metadata": {
    "collapsed": false
   },
   "outputs": [],
   "source": [
    "a = [[[0],[1],[2]],\n",
    "     [[0],[1],[2]],\n",
    "     [[0],[1],[2]],\n",
    "     [[0],[1],[2]]]\n",
    "\n",
    "b = tf.reduce_sum(a, axis=0)\n",
    "\n",
    "with tf.Session() as sess:\n",
    "    c = sess.run(b)\n",
    "    \n",
    "print(np.array(a).shape)\n",
    "print(c)"
   ]
  },
  {
   "cell_type": "code",
   "execution_count": null,
   "metadata": {
    "collapsed": true
   },
   "outputs": [],
   "source": []
  }
 ],
 "metadata": {
  "kernelspec": {
   "display_name": "Python 3",
   "language": "python",
   "name": "python3"
  },
  "language_info": {
   "codemirror_mode": {
    "name": "ipython",
    "version": 3
   },
   "file_extension": ".py",
   "mimetype": "text/x-python",
   "name": "python",
   "nbconvert_exporter": "python",
   "pygments_lexer": "ipython3",
   "version": "3.6.0"
  }
 },
 "nbformat": 4,
 "nbformat_minor": 0
}
