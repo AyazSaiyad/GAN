{
 "cells": [
  {
   "cell_type": "markdown",
   "metadata": {},
   "source": [
    "# Mixture of Gaussian Experiments"
   ]
  },
  {
   "cell_type": "code",
   "execution_count": null,
   "metadata": {
    "collapsed": true
   },
   "outputs": [],
   "source": [
    "import tensorflow as tf\n",
    "import os\n",
    "from PIL import Image\n",
    "import numpy as np\n",
    "import matplotlib.pyplot as plt\n",
    "import matplotlib"
   ]
  },
  {
   "cell_type": "markdown",
   "metadata": {
    "collapsed": true
   },
   "source": [
    "# utility func"
   ]
  },
  {
   "cell_type": "code",
   "execution_count": null,
   "metadata": {
    "collapsed": true
   },
   "outputs": [],
   "source": [
    "def save_plot(x, epoch=None):\n",
    "    # make directory if there is not\n",
    "    path = \"gaussian\"\n",
    "    if not os.path.isdir(path):\n",
    "        os.makedirs(path)    \n",
    "    \n",
    "    plt.figure(figsize=(5,5))\n",
    "    plt.scatter(x[:,0],x[:,1],s=2, color=matplotlib.colors.cnames[\"orangered\"])\n",
    "    #plt.set_xlabel(\"x\")\n",
    "    #plt.set_ylabel(\"y\")\n",
    "    plt.ylim(-2.0, 2.0)\n",
    "    plt.xlim(-2.0, 2.0)\n",
    "    plt.legend()\n",
    "    plt.savefig(os.path.join(path, \"dloss\" + str(epoch) + \".png\"))\n",
    "    plt.close()"
   ]
  },
  {
   "cell_type": "code",
   "execution_count": null,
   "metadata": {
    "collapsed": true
   },
   "outputs": [],
   "source": [
    "# save metrics\n",
    "def save_metrics(metrics, epoch=None):\n",
    "    # make directory if there is not\n",
    "    path = \"metrics\"\n",
    "    if not os.path.isdir(path):\n",
    "        os.makedirs(path)\n",
    "\n",
    "    # save metrics\n",
    "    plt.figure(figsize=(10,8))\n",
    "    plt.plot(metrics[\"dis_loss\"], label=\"discriminative loss\", color=\"b\")\n",
    "    plt.legend()\n",
    "    plt.savefig(os.path.join(path, \"dloss\" + str(epoch) + \".png\"))\n",
    "    plt.close()\n",
    "\n",
    "    plt.figure(figsize=(10,8))\n",
    "    plt.plot(metrics[\"gen_loss\"], label=\"generative loss\", color=\"r\")\n",
    "    plt.legend()\n",
    "    plt.savefig(os.path.join(path, \"g_loss\" + str(epoch) + \".png\"))\n",
    "    plt.close()\n",
    "\n",
    "    plt.figure(figsize=(10,8))\n",
    "    plt.plot(metrics[\"gen_loss\"], label=\"generative loss\", color=\"r\")\n",
    "    plt.plot(metrics[\"dis_loss\"], label=\"discriminative loss\", color=\"b\")\n",
    "    plt.legend()\n",
    "    plt.savefig(os.path.join(path, \"both_loss\" + str(epoch) + \".png\"))\n",
    "    plt.close()"
   ]
  },
  {
   "cell_type": "code",
   "execution_count": null,
   "metadata": {
    "collapsed": true
   },
   "outputs": [],
   "source": [
    "# plot images\n",
    "def save_imgs(images, plot_dim=(5,12), size=(12,5), epoch=None):\n",
    "    # make directory if there is not\n",
    "    path = \"generated_figures\"\n",
    "    if not os.path.isdir(path):\n",
    "        os.makedirs(path)\n",
    "\n",
    "    num_examples = plot_dim[0]*plot_dim[1]\n",
    "    num_examples = 60\n",
    "    fig = plt.figure(figsize=size)\n",
    "\n",
    "    for i in range(num_examples):\n",
    "        plt.subplot(plot_dim[0], plot_dim[1], i+1)\n",
    "        img = images[i, :]\n",
    "        img = img.reshape((96, 96, 3))\n",
    "        plt.tight_layout()\n",
    "        plt.imshow(img)\n",
    "        plt.axis(\"off\")\n",
    "    plt.subplots_adjust(wspace=0.1, hspace=0.1)\n",
    "    plt.savefig(os.path.join(path, str(epoch) + \".png\"))\n",
    "    plt.close()"
   ]
  },
  {
   "cell_type": "code",
   "execution_count": null,
   "metadata": {
    "collapsed": true
   },
   "outputs": [],
   "source": [
    "def fc(x, output_shape, name):\n",
    "    shape = x.get_shape().as_list()\n",
    "    dim = np.prod(shape[1:])\n",
    "    x = tf.reshape(x, [-1, dim])\n",
    "    input_shape = dim\n",
    "\n",
    "    initializer = tf.random_normal_initializer(0., 0.001)\n",
    "    with tf.variable_scope(name):\n",
    "        weight = tf.get_variable(\"weight\", shape=[input_shape, output_shape], initializer=initializer)\n",
    "        x = tf.matmul(x, weight)\n",
    "\n",
    "        bias = tf.get_variable(\"bias\", shape=[output_shape], initializer=tf.constant_initializer(0.))\n",
    "        x = tf.nn.bias_add(x, bias)\n",
    "\n",
    "    return x"
   ]
  },
  {
   "cell_type": "code",
   "execution_count": null,
   "metadata": {
    "collapsed": true
   },
   "outputs": [],
   "source": [
    "import math\n",
    "def gaussian_mixture_circle(batch_size, num_cluster=8, scale=1, std=2):\n",
    "    rand_indices = np.random.randint(0, num_cluster, size=batch_size)\n",
    "    base_angle = math.pi * 2 / num_cluster\n",
    "    angle = rand_indices * base_angle - math.pi / 2\n",
    "    mean = np.zeros((batch_size, 2), dtype=np.float32)\n",
    "    mean[:, 0] = np.cos(angle) * scale\n",
    "    mean[:, 1] = np.sin(angle) * scale\n",
    "    return np.random.normal(mean, std**2, (batch_size, 2)).astype(np.float32)"
   ]
  },
  {
   "cell_type": "markdown",
   "metadata": {},
   "source": [
    "# model"
   ]
  },
  {
   "cell_type": "code",
   "execution_count": null,
   "metadata": {
    "collapsed": true
   },
   "outputs": [],
   "source": [
    "class Generator:\n",
    "    def __init__(self):\n",
    "        self.reuse = False\n",
    "        self.z_dim = 100\n",
    "        self.h_dim = 128\n",
    "        self.o_dim = 2\n",
    "        self.initializer = tf.contrib.layers.xavier_initializer()\n",
    "\n",
    "    def __call__(self, x, training=False):\n",
    "        with tf.variable_scope('g', reuse=self.reuse):\n",
    "            with tf.variable_scope(\"fc1\"):\n",
    "                weight = tf.get_variable(\"W\", shape=[self.z_dim, self.h_dim], initializer=self.initializer)\n",
    "                bias = tf.get_variable(\"b\", shape=[self.h_dim], initializer=self.initializer)\n",
    "                x = tf.matmul(x, weight) + bias\n",
    "                x = tf.nn.relu(x)\n",
    "\n",
    "            with tf.variable_scope(\"fc2\"):\n",
    "                weight = tf.get_variable(\"W\", shape=[self.h_dim, self.o_dim], initializer=self.initializer)\n",
    "                bias = tf.get_variable(\"b\", shape=[self.o_dim], initializer=self.initializer)\n",
    "                x = tf.matmul(x, weight) + bias\n",
    "\n",
    "        self.reuse = True\n",
    "        self.variables = tf.get_collection(tf.GraphKeys.TRAINABLE_VARIABLES, scope='g')\n",
    "        return x"
   ]
  },
  {
   "cell_type": "code",
   "execution_count": null,
   "metadata": {
    "collapsed": true
   },
   "outputs": [],
   "source": [
    "class Discriminator:\n",
    "    def __init__(self, batch_size=32):\n",
    "        self.reuse = False\n",
    "#        self.initializer = tf.truncated_normal(stddev=0.8)\n",
    "        self.initializer = tf.contrib.layers.xavier_initializer()\n",
    "        self.X_dim = 2\n",
    "        self.o_dim = 1\n",
    "        \n",
    "    def __call__(self, x, training=False, name=''):\n",
    "        with tf.name_scope('d' + name), tf.variable_scope('d', reuse=self.reuse):\n",
    "            x = x * 0.25\n",
    "\n",
    "            with tf.variable_scope(\"fc1\"):\n",
    "                weight = tf.get_variable(\"W\", shape=[self.X_dim, self.o_dim], initializer=self.initializer)\n",
    "                bias = tf.get_variable(\"b\", shape=[self.o_dim], initializer=self.initializer)\n",
    "                x = tf.matmul(x, weight) + bias\n",
    "                x = tf.nn.relu(x)\n",
    "\n",
    "        self.reuse = True\n",
    "        self.variables = tf.get_collection(tf.GraphKeys.TRAINABLE_VARIABLES, scope='d')\n",
    "        return x"
   ]
  },
  {
   "cell_type": "code",
   "execution_count": null,
   "metadata": {
    "collapsed": true
   },
   "outputs": [],
   "source": [
    "class GAN:\n",
    "    def __init__(self, batch_size=64):\n",
    "        self.batch_size = batch_size\n",
    "        self.g = Generator()\n",
    "        self.d = Discriminator()\n",
    "        self.z_dim = 100\n",
    "        self.batch_size = batch_size\n",
    "        self.epoch_save_gauss = 1000\n",
    "        self.epoch_save_metrics = 5000\n",
    "        self.losses = {\"dis_loss\":[], \"gen_loss\":[]}\n",
    "        \n",
    "    def loss(self, y, y_gen):\n",
    "        #d_loss = tf.reduce_mean(tf.nn.sigmoid_cross_entropy_with_logits(logits=y, labels=tf.ones_like(y))) + tf.reduce_mean(tf.nn.sigmoid_cross_entropy_with_logits(logits=y_gen, labels=tf.zeros_like(y_gen))) # 怪しい\n",
    "        #g_loss = tf.reduce_mean(tf.nn.sigmoid_cross_entropy_with_logits(logits=y_gen, labels=tf.ones_like(y_gen)))    # 怪しい\n",
    "        d_loss = -tf.reduce_mean(tf.log(y) + tf.log(1. - y_gen)) \n",
    "        g_loss = -tf.reduce_mean(tf.log(y_gen))\n",
    "        return g_loss, d_loss\n",
    "\n",
    "    def train(self, batch_size=64, epochs=100000):\n",
    "        z = tf.placeholder(tf.float32, shape=[None, self.z_dim])\n",
    "        x = tf.placeholder(tf.float32, shape=[None, 2])\n",
    "        x_gen = self.g(z)\n",
    "        y = self.d(x)\n",
    "        y_gen = self.d(x_gen)\n",
    "        g_loss, d_loss = self.loss(y, y_gen)\n",
    "        \n",
    "        #t_vars = tf.global_variables()\n",
    "        #g_vars = [var for var in t_vars if \"g\" in var.name]\n",
    "        #d_vars = [var for var in t_vars if \"d\" in var.name]\n",
    "\n",
    "        opt_d = tf.train.AdamOptimizer(1e-4, beta1=0.5).minimize(d_loss, var_list=self.d.variables)\n",
    "        opt_g = tf.train.AdamOptimizer(1e-4, beta1=0.5).minimize(g_loss, var_list=self.g.variables)\n",
    "\n",
    "        z_fix = np.random.uniform(-1, 1, size=[1000, self.z_dim])\n",
    "        \n",
    "        self.sess = tf.Session()\n",
    "        self.sess.run(tf.global_variables_initializer())\n",
    "        for epoch in range(epochs):\n",
    "            # 潜在変数と生成データ\n",
    "            z_gen = np.random.uniform(-1, 1, size=[self.batch_size, self.z_dim])\n",
    "            \n",
    "            # 訓練データを生成\n",
    "            X_tr = gaussian_mixture_circle(self.batch_size, num_cluster=8, scale=2, std=0.1)\n",
    "\n",
    "            _, dis_loss = self.sess.run([opt_d, d_loss], feed_dict={z: z_gen, x: X_tr})\n",
    "            _, gen_loss = self.sess.run([opt_g, g_loss], feed_dict={z: z_gen, x: X_tr})\n",
    "\n",
    "            self.losses[\"dis_loss\"].append(dis_loss)\n",
    "            self.losses[\"gen_loss\"].append(gen_loss)\n",
    "            \n",
    "            if epoch % self.epoch_save_gauss == 0:\n",
    "                x_ = self.sess.run(x_gen, feed_dict={z: z_fix})\n",
    "                save_plot(x_, epoch)\n",
    "                save_plot(X_tr, \"epoch\" + str(epoch))\n",
    "            \n",
    "            if epoch % self.epoch_save_metrics == 0:\n",
    "                save_metrics(self.losses, epoch)\n",
    "            \n",
    "    def sample_images(self, row=5, col=12, inputs=None, epoch=None):\n",
    "        images = self.g(inputs, training=True)\n",
    "        return images"
   ]
  },
  {
   "cell_type": "code",
   "execution_count": null,
   "metadata": {},
   "outputs": [],
   "source": [
    "if __name__ == \"__main__\":\n",
    "    gan = GAN()\n",
    "    gan.train()\n",
    "#    gan.g()"
   ]
  },
  {
   "cell_type": "code",
   "execution_count": null,
   "metadata": {
    "collapsed": true
   },
   "outputs": [],
   "source": []
  }
 ],
 "metadata": {
  "anaconda-cloud": {},
  "kernelspec": {
   "display_name": "Python [default]",
   "language": "python",
   "name": "python3"
  },
  "language_info": {
   "codemirror_mode": {
    "name": "ipython",
    "version": 3
   },
   "file_extension": ".py",
   "mimetype": "text/x-python",
   "name": "python",
   "nbconvert_exporter": "python",
   "pygments_lexer": "ipython3",
   "version": "3.5.2"
  }
 },
 "nbformat": 4,
 "nbformat_minor": 1
}
