{
 "cells": [
  {
   "cell_type": "code",
   "execution_count": 1,
   "metadata": {
    "collapsed": false,
    "scrolled": true
   },
   "outputs": [
    {
     "name": "stdout",
     "output_type": "stream",
     "text": [
      "Extracting MNIST_data/train-images-idx3-ubyte.gz\n",
      "Extracting MNIST_data/train-labels-idx1-ubyte.gz\n",
      "Extracting MNIST_data/t10k-images-idx3-ubyte.gz\n",
      "Extracting MNIST_data/t10k-labels-idx1-ubyte.gz\n"
     ]
    }
   ],
   "source": [
    "import tensorflow as tf\n",
    "import os\n",
    "import numpy as np\n",
    "from model import *\n",
    "from utility import *\n",
    "\n",
    "from tensorflow.examples.tutorials.mnist import input_data\n",
    "mnist = input_data.read_data_sets(\"MNIST_data/\",one_hot=True)\n",
    "\n",
    "model_name = \"BEGAN_for_MNIST\""
   ]
  },
  {
   "cell_type": "code",
   "execution_count": 2,
   "metadata": {
    "collapsed": true
   },
   "outputs": [],
   "source": [
    "class Generator:\n",
    "    def __init__(self):\n",
    "        self.reuse = False\n",
    "        self.g_bn0 = BatchNormalization(name = 'g_bn0')\n",
    "\n",
    "    def __call__(self, z, training=False):\n",
    "        with tf.variable_scope('g', reuse=self.reuse):\n",
    "            fc0 = full_connection_layer(z, 7*7*512, name=\"fc0\")\n",
    "            fc0 = tf.reshape(fc0, [-1, 7, 7, 512])\n",
    "\n",
    "            batch_size = tf.shape(fc0)[0]\n",
    "            deconv0 = deconv2d_layer(fc0, [batch_size, 14, 14, 256], kernel_size=4, name=\"deconv0\")\n",
    "            deconv0 = self.g_bn0(deconv0)\n",
    "            deconv0 = lrelu(deconv0, leak=0.3)\n",
    "\n",
    "            deconv1 = deconv2d_layer(deconv0, [batch_size, 28, 28, 1], kernel_size=4, name=\"deconv1\")\n",
    "            deconv1 = tf.nn.tanh(deconv1)\n",
    "            output = deconv1 \n",
    "\n",
    "        self.reuse = True\n",
    "        self.variables = tf.get_collection(tf.GraphKeys.TRAINABLE_VARIABLES, scope='g')\n",
    "        return output"
   ]
  },
  {
   "cell_type": "code",
   "execution_count": 3,
   "metadata": {
    "collapsed": true
   },
   "outputs": [],
   "source": [
    "class Discriminator:\n",
    "    def __init__(self):\n",
    "        self.reuse = False\n",
    "        self.d_bn0 = BatchNormalization(name=\"d_bn0\")\n",
    "        self.d_bn1 = BatchNormalization(name=\"d_bn1\")\n",
    "        \n",
    "    def __call__(self, x,training=False, name=''):\n",
    "        with tf.variable_scope('d', reuse=self.reuse):\n",
    "            x = tf.reshape(x, [-1, 28, 28, 1])\n",
    "\n",
    "            conv1 = conv2d_layer(x, 64, kernel_size=4, name=\"d_conv0\")\n",
    "            conv1 = tf.nn.relu(conv1)\n",
    "            conv1 = tf.reshape(conv1, [-1, 64*14*14])\n",
    "\n",
    "            fc0 = full_connection_layer(conv1, 32, name=\"fc0\")\n",
    "            fc0 = self.d_bn0(fc0)\n",
    "            fc0 = tf.nn.relu(fc0)\n",
    "            \n",
    "            fc1 = full_connection_layer(fc0, 64*14*14, name=\"fc1\")\n",
    "            fc1 = self.d_bn1(fc1)\n",
    "            fc1 = tf.nn.relu(fc1)\n",
    "            fc1 = tf.reshape(fc1, [-1, 14,14,64])\n",
    "            \n",
    "            batch_size = tf.shape(fc1)[0]\n",
    "            deconv0 = deconv2d_layer(fc1, [batch_size, 28, 28, 1], kernel_size=4, name=\"deconv0\")\n",
    "            output = tf.nn.tanh(deconv0)\n",
    "\n",
    "            recon_error = tf.reduce_mean(tf.abs(output - x))\n",
    "\n",
    "        self.reuse = True\n",
    "        self.variables = tf.get_collection(tf.GraphKeys.TRAINABLE_VARIABLES, scope='d')\n",
    "\n",
    "        return output, recon_error"
   ]
  },
  {
   "cell_type": "code",
   "execution_count": 4,
   "metadata": {
    "collapsed": true
   },
   "outputs": [],
   "source": [
    "class GAN:\n",
    "    def __init__(self):\n",
    "        self.batch_size = 64\n",
    "        self.img_size = 28\n",
    "        self.z_size = 50\n",
    "        \n",
    "        self.epochs = 50000\n",
    "        self.epoch_saveMetrics = 1000\n",
    "        self.epoch_saveSampleImg = 1000\n",
    "        self.epoch_saveParamter = 5000\n",
    "        self.losses = {\"d_loss\":[], \"g_loss\":[], \"M_value\":[]}\n",
    "\n",
    "        # unrolled counts\n",
    "        self.steps = 5\n",
    "\n",
    "        self.X_tr = tf.placeholder(tf.float32, shape=[None, self.img_size, self.img_size, 1])\n",
    "        self.z = tf.placeholder(tf.float32, [None, self.z_size])\n",
    "        \n",
    "        self.g = Generator()\n",
    "        self.d = Discriminator()\n",
    "        self.Xg = self.g(self.z)\n",
    "\n",
    "        self.k = tf.Variable(0., trainable=False)\n",
    "        self.lambda_ = 1e-3\n",
    "        self.gamma = 0.75\n",
    "\n",
    "    def loss(self):\n",
    "        output_tr, recon_error_tr = self.d(self.X_tr)\n",
    "        output_gen, recon_error_gen = self.d(self.Xg)\n",
    "        \n",
    "        loss_d = recon_error_tr - self.k*recon_error_gen\n",
    "        loss_g = recon_error_gen\n",
    "\n",
    "        self.M = recon_error_tr + tf.abs(self.gamma*recon_error_tr - recon_error_gen)\n",
    "        self.update_k = self.k.assign(self.k + self.lambda_*(self.gamma*recon_error_tr - recon_error_gen))\n",
    "\n",
    "        return loss_g, loss_d\n",
    "\n",
    "    def train(self):\n",
    "        # Optimizer\n",
    "        d_lr = 2e-4\n",
    "        d_beta1 = 0.5\n",
    "        g_lr = 2e-4\n",
    "        g_beta1 = 0.5\n",
    "\n",
    "        self.L_g, self.L_d = self.loss()\n",
    "\n",
    "        d_opt = tf.train.AdamOptimizer(learning_rate=d_lr)\n",
    "        d_train_op = d_opt.minimize(self.L_d, var_list=self.d.variables)\n",
    "        g_opt = tf.train.AdamOptimizer(learning_rate=g_lr)\n",
    "        g_train_op = g_opt.minimize(self.L_g, var_list=self.g.variables)\n",
    "\n",
    "        saver = tf.train.Saver()\n",
    "        \n",
    "        config = tf.ConfigProto(\n",
    "            gpu_options=tf.GPUOptions(\n",
    "                visible_device_list= \"0\"\n",
    "            )\n",
    "        )\n",
    "                \n",
    "        with tf.Session(config=config) as sess:\n",
    "            sess.run(tf.global_variables_initializer())\n",
    "\n",
    "            # preparing noise vec for test\n",
    "            bs = 100\n",
    "            test_z = np.random.uniform(-1, 1, size=[bs, self.z_size])\n",
    "\n",
    "            for epoch in range(self.epochs):\n",
    "                # extract images for training\n",
    "                X_mb, _ = mnist.train.next_batch(self.batch_size)\n",
    "                X_mb = np.reshape(X_mb, [-1, 28, 28, 1])\n",
    "                X_mb = (X_mb-0.5) * 2.0\n",
    "\n",
    "                z = np.random.uniform(-1, 1, size=[self.batch_size, self.z_size])\n",
    "\n",
    "                # train Discriminator\n",
    "                _, d_loss_value = sess.run([d_train_op, self.L_d], feed_dict={\n",
    "                    self.X_tr: X_mb,\n",
    "                    self.z:z,\n",
    "                })\n",
    "\n",
    "                # train Generator\n",
    "                _, g_loss_value = sess.run([g_train_op, self.L_g], feed_dict={\n",
    "                    self.X_tr: X_mb,\n",
    "                    self.z:z,\n",
    "                })\n",
    "\n",
    "                # update k\n",
    "                M_value, _ = sess.run([self.M, self.update_k], feed_dict={\n",
    "                    self.X_tr: X_mb,\n",
    "                    self.z:z,\n",
    "                })\n",
    "\n",
    "                # append loss value for visualizing\n",
    "                self.losses[\"d_loss\"].append(np.sum(d_loss_value))\n",
    "                self.losses[\"g_loss\"].append(np.sum(g_loss_value))\n",
    "                self.losses[\"M_value\"].append(M_value)                \n",
    "\n",
    "                # print epoch\n",
    "                if epoch % 50 == 0:\n",
    "                    print('epoch:{0}, d_loss:{1}, g_loss:{2}, M:value:{3} '.format(epoch, d_loss_value, g_loss_value, M_value))\n",
    "                \n",
    "                # visualize loss\n",
    "                if epoch % self.epoch_saveMetrics == 0:\n",
    "                    save_metrics(model_name, self.losses, epoch)\n",
    "\n",
    "                # visualize generated images during training\n",
    "                if epoch % self.epoch_saveSampleImg == 0:\n",
    "                    img = sess.run(self.Xg, feed_dict={self.z: test_z})\n",
    "                    img = (img*0.5)+0.5\n",
    "                    save_imgs(model_name, img, name=str(epoch))\n",
    "\n",
    "                # save model parameters \n",
    "                if epoch % self.epoch_saveParamter == 0:\n",
    "                    dir_path = \"model_\" + model_name\n",
    "                    if not os.path.isdir(dir_path):\n",
    "                        os.makedirs(dir_path)\n",
    "\n",
    "                    saver.save(sess, dir_path + \"/\" + str(epoch) + \".ckpt\")"
   ]
  },
  {
   "cell_type": "code",
   "execution_count": 5,
   "metadata": {
    "collapsed": false,
    "scrolled": true
   },
   "outputs": [
    {
     "name": "stderr",
     "output_type": "stream",
     "text": [
      "/home/ujitoko/anaconda3/lib/python3.6/site-packages/ipykernel/__main__.py:57: DeprecationWarning: PyUnicode_AsEncodedObject() is deprecated; use PyUnicode_AsEncodedString() to encode from str to bytes or PyCodec_Encode() for generic encoding\n"
     ]
    },
    {
     "name": "stdout",
     "output_type": "stream",
     "text": [
      "epoch:0, d_loss:0.9266582727432251, g_loss:0.32139384746551514, M:value:1.317009687423706 \n",
      "epoch:50, d_loss:0.4104168713092804, g_loss:0.10977968573570251, M:value:0.6099072694778442 \n",
      "epoch:100, d_loss:0.28379660844802856, g_loss:0.10200047492980957, M:value:0.4004284739494324 \n",
      "epoch:150, d_loss:0.2605951726436615, g_loss:0.10685686767101288, M:value:0.3577074408531189 \n",
      "epoch:200, d_loss:0.2108721286058426, g_loss:0.09217820316553116, M:value:0.2827048599720001 \n",
      "epoch:250, d_loss:0.2048768848180771, g_loss:0.09671444445848465, M:value:0.2698349356651306 \n",
      "epoch:300, d_loss:0.20069558918476105, g_loss:0.08937438577413559, M:value:0.27021464705467224 \n",
      "epoch:350, d_loss:0.2099509835243225, g_loss:0.09292273968458176, M:value:0.2831854820251465 \n",
      "epoch:400, d_loss:0.15877628326416016, g_loss:0.08648265153169632, M:value:0.20050793886184692 \n",
      "epoch:450, d_loss:0.19640609622001648, g_loss:0.0803074836730957, M:value:0.27206504344940186 \n",
      "epoch:500, d_loss:0.16910424828529358, g_loss:0.07960142940282822, M:value:0.2246304601430893 \n",
      "epoch:550, d_loss:0.17520175874233246, g_loss:0.0772121250629425, M:value:0.23820695281028748 \n",
      "epoch:600, d_loss:0.16861788928508759, g_loss:0.07551556825637817, M:value:0.2277255356311798 \n",
      "epoch:650, d_loss:0.16774021089076996, g_loss:0.0765756219625473, M:value:0.22601154446601868 \n",
      "epoch:700, d_loss:0.15151230990886688, g_loss:0.07386112958192825, M:value:0.20005686581134796 \n",
      "epoch:750, d_loss:0.15629714727401733, g_loss:0.0725003033876419, M:value:0.2092263251543045 \n",
      "epoch:800, d_loss:0.14131122827529907, g_loss:0.07751736044883728, M:value:0.17899689078330994 \n",
      "epoch:850, d_loss:0.2434699684381485, g_loss:0.08015898615121841, M:value:0.3536474108695984 \n",
      "epoch:900, d_loss:0.12986783683300018, g_loss:0.07959336042404175, M:value:0.15769866108894348 \n",
      "epoch:950, d_loss:0.1053381860256195, g_loss:0.08223679661750793, M:value:0.11323779821395874 \n",
      "epoch:1000, d_loss:0.1021963506937027, g_loss:0.07786249369382858, M:value:0.11068834364414215 \n",
      "epoch:1050, d_loss:0.10334008932113647, g_loss:0.07601536065340042, M:value:0.11470101028680801 \n"
     ]
    },
    {
     "ename": "KeyboardInterrupt",
     "evalue": "",
     "output_type": "error",
     "traceback": [
      "\u001b[0;31m---------------------------------------------------------------------------\u001b[0m",
      "\u001b[0;31mKeyboardInterrupt\u001b[0m                         Traceback (most recent call last)",
      "\u001b[0;32m<ipython-input-5-784cfd1c6a09>\u001b[0m in \u001b[0;36m<module>\u001b[0;34m()\u001b[0m\n\u001b[1;32m      1\u001b[0m \u001b[0mgan\u001b[0m \u001b[0;34m=\u001b[0m \u001b[0mGAN\u001b[0m\u001b[0;34m(\u001b[0m\u001b[0;34m)\u001b[0m\u001b[0;34m\u001b[0m\u001b[0m\n\u001b[0;32m----> 2\u001b[0;31m \u001b[0mgan\u001b[0m\u001b[0;34m.\u001b[0m\u001b[0mtrain\u001b[0m\u001b[0;34m(\u001b[0m\u001b[0;34m)\u001b[0m\u001b[0;34m\u001b[0m\u001b[0m\n\u001b[0m",
      "\u001b[0;32m<ipython-input-4-bc0aa0d1d8ac>\u001b[0m in \u001b[0;36mtrain\u001b[0;34m(self)\u001b[0m\n\u001b[1;32m     83\u001b[0m                 _, g_loss_value = sess.run([g_train_op, self.L_g], feed_dict={\n\u001b[1;32m     84\u001b[0m                     \u001b[0mself\u001b[0m\u001b[0;34m.\u001b[0m\u001b[0mX_tr\u001b[0m\u001b[0;34m:\u001b[0m \u001b[0mX_mb\u001b[0m\u001b[0;34m,\u001b[0m\u001b[0;34m\u001b[0m\u001b[0m\n\u001b[0;32m---> 85\u001b[0;31m                     \u001b[0mself\u001b[0m\u001b[0;34m.\u001b[0m\u001b[0mz\u001b[0m\u001b[0;34m:\u001b[0m\u001b[0mz\u001b[0m\u001b[0;34m,\u001b[0m\u001b[0;34m\u001b[0m\u001b[0m\n\u001b[0m\u001b[1;32m     86\u001b[0m                 })\n\u001b[1;32m     87\u001b[0m \u001b[0;34m\u001b[0m\u001b[0m\n",
      "\u001b[0;32m/home/ujitoko/anaconda3/lib/python3.6/site-packages/tensorflow/python/client/session.py\u001b[0m in \u001b[0;36mrun\u001b[0;34m(self, fetches, feed_dict, options, run_metadata)\u001b[0m\n\u001b[1;32m    765\u001b[0m     \u001b[0;32mtry\u001b[0m\u001b[0;34m:\u001b[0m\u001b[0;34m\u001b[0m\u001b[0m\n\u001b[1;32m    766\u001b[0m       result = self._run(None, fetches, feed_dict, options_ptr,\n\u001b[0;32m--> 767\u001b[0;31m                          run_metadata_ptr)\n\u001b[0m\u001b[1;32m    768\u001b[0m       \u001b[0;32mif\u001b[0m \u001b[0mrun_metadata\u001b[0m\u001b[0;34m:\u001b[0m\u001b[0;34m\u001b[0m\u001b[0m\n\u001b[1;32m    769\u001b[0m         \u001b[0mproto_data\u001b[0m \u001b[0;34m=\u001b[0m \u001b[0mtf_session\u001b[0m\u001b[0;34m.\u001b[0m\u001b[0mTF_GetBuffer\u001b[0m\u001b[0;34m(\u001b[0m\u001b[0mrun_metadata_ptr\u001b[0m\u001b[0;34m)\u001b[0m\u001b[0;34m\u001b[0m\u001b[0m\n",
      "\u001b[0;32m/home/ujitoko/anaconda3/lib/python3.6/site-packages/tensorflow/python/client/session.py\u001b[0m in \u001b[0;36m_run\u001b[0;34m(self, handle, fetches, feed_dict, options, run_metadata)\u001b[0m\n\u001b[1;32m    963\u001b[0m     \u001b[0;32mif\u001b[0m \u001b[0mfinal_fetches\u001b[0m \u001b[0;32mor\u001b[0m \u001b[0mfinal_targets\u001b[0m\u001b[0;34m:\u001b[0m\u001b[0;34m\u001b[0m\u001b[0m\n\u001b[1;32m    964\u001b[0m       results = self._do_run(handle, final_targets, final_fetches,\n\u001b[0;32m--> 965\u001b[0;31m                              feed_dict_string, options, run_metadata)\n\u001b[0m\u001b[1;32m    966\u001b[0m     \u001b[0;32melse\u001b[0m\u001b[0;34m:\u001b[0m\u001b[0;34m\u001b[0m\u001b[0m\n\u001b[1;32m    967\u001b[0m       \u001b[0mresults\u001b[0m \u001b[0;34m=\u001b[0m \u001b[0;34m[\u001b[0m\u001b[0;34m]\u001b[0m\u001b[0;34m\u001b[0m\u001b[0m\n",
      "\u001b[0;32m/home/ujitoko/anaconda3/lib/python3.6/site-packages/tensorflow/python/client/session.py\u001b[0m in \u001b[0;36m_do_run\u001b[0;34m(self, handle, target_list, fetch_list, feed_dict, options, run_metadata)\u001b[0m\n\u001b[1;32m   1013\u001b[0m     \u001b[0;32mif\u001b[0m \u001b[0mhandle\u001b[0m \u001b[0;32mis\u001b[0m \u001b[0;32mNone\u001b[0m\u001b[0;34m:\u001b[0m\u001b[0;34m\u001b[0m\u001b[0m\n\u001b[1;32m   1014\u001b[0m       return self._do_call(_run_fn, self._session, feed_dict, fetch_list,\n\u001b[0;32m-> 1015\u001b[0;31m                            target_list, options, run_metadata)\n\u001b[0m\u001b[1;32m   1016\u001b[0m     \u001b[0;32melse\u001b[0m\u001b[0;34m:\u001b[0m\u001b[0;34m\u001b[0m\u001b[0m\n\u001b[1;32m   1017\u001b[0m       return self._do_call(_prun_fn, self._session, handle, feed_dict,\n",
      "\u001b[0;32m/home/ujitoko/anaconda3/lib/python3.6/site-packages/tensorflow/python/client/session.py\u001b[0m in \u001b[0;36m_do_call\u001b[0;34m(self, fn, *args)\u001b[0m\n\u001b[1;32m   1020\u001b[0m   \u001b[0;32mdef\u001b[0m \u001b[0m_do_call\u001b[0m\u001b[0;34m(\u001b[0m\u001b[0mself\u001b[0m\u001b[0;34m,\u001b[0m \u001b[0mfn\u001b[0m\u001b[0;34m,\u001b[0m \u001b[0;34m*\u001b[0m\u001b[0margs\u001b[0m\u001b[0;34m)\u001b[0m\u001b[0;34m:\u001b[0m\u001b[0;34m\u001b[0m\u001b[0m\n\u001b[1;32m   1021\u001b[0m     \u001b[0;32mtry\u001b[0m\u001b[0;34m:\u001b[0m\u001b[0;34m\u001b[0m\u001b[0m\n\u001b[0;32m-> 1022\u001b[0;31m       \u001b[0;32mreturn\u001b[0m \u001b[0mfn\u001b[0m\u001b[0;34m(\u001b[0m\u001b[0;34m*\u001b[0m\u001b[0margs\u001b[0m\u001b[0;34m)\u001b[0m\u001b[0;34m\u001b[0m\u001b[0m\n\u001b[0m\u001b[1;32m   1023\u001b[0m     \u001b[0;32mexcept\u001b[0m \u001b[0merrors\u001b[0m\u001b[0;34m.\u001b[0m\u001b[0mOpError\u001b[0m \u001b[0;32mas\u001b[0m \u001b[0me\u001b[0m\u001b[0;34m:\u001b[0m\u001b[0;34m\u001b[0m\u001b[0m\n\u001b[1;32m   1024\u001b[0m       \u001b[0mmessage\u001b[0m \u001b[0;34m=\u001b[0m \u001b[0mcompat\u001b[0m\u001b[0;34m.\u001b[0m\u001b[0mas_text\u001b[0m\u001b[0;34m(\u001b[0m\u001b[0me\u001b[0m\u001b[0;34m.\u001b[0m\u001b[0mmessage\u001b[0m\u001b[0;34m)\u001b[0m\u001b[0;34m\u001b[0m\u001b[0m\n",
      "\u001b[0;32m/home/ujitoko/anaconda3/lib/python3.6/site-packages/tensorflow/python/client/session.py\u001b[0m in \u001b[0;36m_run_fn\u001b[0;34m(session, feed_dict, fetch_list, target_list, options, run_metadata)\u001b[0m\n\u001b[1;32m   1002\u001b[0m         return tf_session.TF_Run(session, options,\n\u001b[1;32m   1003\u001b[0m                                  \u001b[0mfeed_dict\u001b[0m\u001b[0;34m,\u001b[0m \u001b[0mfetch_list\u001b[0m\u001b[0;34m,\u001b[0m \u001b[0mtarget_list\u001b[0m\u001b[0;34m,\u001b[0m\u001b[0;34m\u001b[0m\u001b[0m\n\u001b[0;32m-> 1004\u001b[0;31m                                  status, run_metadata)\n\u001b[0m\u001b[1;32m   1005\u001b[0m \u001b[0;34m\u001b[0m\u001b[0m\n\u001b[1;32m   1006\u001b[0m     \u001b[0;32mdef\u001b[0m \u001b[0m_prun_fn\u001b[0m\u001b[0;34m(\u001b[0m\u001b[0msession\u001b[0m\u001b[0;34m,\u001b[0m \u001b[0mhandle\u001b[0m\u001b[0;34m,\u001b[0m \u001b[0mfeed_dict\u001b[0m\u001b[0;34m,\u001b[0m \u001b[0mfetch_list\u001b[0m\u001b[0;34m)\u001b[0m\u001b[0;34m:\u001b[0m\u001b[0;34m\u001b[0m\u001b[0m\n",
      "\u001b[0;31mKeyboardInterrupt\u001b[0m: "
     ]
    }
   ],
   "source": [
    "gan = GAN()\n",
    "gan.train()"
   ]
  },
  {
   "cell_type": "code",
   "execution_count": null,
   "metadata": {
    "collapsed": true
   },
   "outputs": [],
   "source": []
  },
  {
   "cell_type": "code",
   "execution_count": null,
   "metadata": {
    "collapsed": true
   },
   "outputs": [],
   "source": []
  },
  {
   "cell_type": "code",
   "execution_count": null,
   "metadata": {
    "collapsed": true
   },
   "outputs": [],
   "source": []
  },
  {
   "cell_type": "code",
   "execution_count": null,
   "metadata": {
    "collapsed": true
   },
   "outputs": [],
   "source": []
  },
  {
   "cell_type": "code",
   "execution_count": null,
   "metadata": {
    "collapsed": true
   },
   "outputs": [],
   "source": []
  }
 ],
 "metadata": {
  "anaconda-cloud": {},
  "kernelspec": {
   "display_name": "Python 3",
   "language": "python",
   "name": "python3"
  },
  "language_info": {
   "codemirror_mode": {
    "name": "ipython",
    "version": 3
   },
   "file_extension": ".py",
   "mimetype": "text/x-python",
   "name": "python",
   "nbconvert_exporter": "python",
   "pygments_lexer": "ipython3",
   "version": "3.6.0"
  }
 },
 "nbformat": 4,
 "nbformat_minor": 1
}
