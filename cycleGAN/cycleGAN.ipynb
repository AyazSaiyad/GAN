{
 "cells": [
  {
   "cell_type": "markdown",
   "metadata": {},
   "source": [
    "# Cycle GAN implementation by tensorflow"
   ]
  },
  {
   "cell_type": "code",
   "execution_count": 1,
   "metadata": {
    "collapsed": false
   },
   "outputs": [],
   "source": [
    "import tensorflow as tf\n",
    "import os\n",
    "from PIL import Image\n",
    "import numpy as np\n",
    "import matplotlib.pyplot as plt\n",
    "\n",
    "#from util import *\n",
    "#from ops import *"
   ]
  },
  {
   "cell_type": "code",
   "execution_count": 2,
   "metadata": {
    "collapsed": false
   },
   "outputs": [],
   "source": [
    "# convert imgs into .npy file\n",
    "def ConvertIntoNpy(src, dst):\n",
    "    files = os.listdir(src)\n",
    "    firstImg = Image.open(src + \"/\" + files[0])\n",
    "    np_firstImg = np.asarray(firstImg)\n",
    "    fileList = np.copy(np_firstImg)\n",
    "    fileList = fileList[np.newaxis, :]\n",
    "\n",
    "    print(\"num of files: \" + str(len(files)))\n",
    "    print(\"file size: \" + str(np_firstImg.shape))\n",
    "\n",
    "    for i in range(len(files)):\n",
    "        if i % 100 == 1:\n",
    "            print(i)\n",
    "\n",
    "        img = Image.open(src + \"/\" + files[i])\n",
    "        np_img = np.asarray(img)\n",
    "        if np_img.shape != np_firstImg.shape:\n",
    "            continue\n",
    "\n",
    "        np_img = np_img[np.newaxis, :]\n",
    "        fileList = np.vstack((fileList, np_img))\n",
    "        img.close()\n",
    "\n",
    "    print(\"generated npy size: \" + str(fileList.shape))\n",
    "    np.save(dst, fileList)\n",
    "\n",
    "#ConvertIntoNpy(\"ukiyoe2photo/trainA\", \"./ukiyoe2photo_trainA.npy\")"
   ]
  },
  {
   "cell_type": "markdown",
   "metadata": {},
   "source": [
    "# model"
   ]
  },
  {
   "cell_type": "code",
   "execution_count": 3,
   "metadata": {
    "collapsed": true
   },
   "outputs": [],
   "source": [
    "class Generator:\n",
    "    def __init__(self, name=\"\"):\n",
    "        self.reuse = False\n",
    "        self.name = name\n",
    "\n",
    "    def __call__(self, inputs, gf_dim=64):\n",
    "        def residual_block(x, dim):\n",
    "            y = tf.pad(x, [[0,0], [1,1], [1,1], [0,0]], \"REFLECT\")\n",
    "            y = tf.layers.conv2d(y, dim, [3,3], [1,1], padding=\"VALID\")\n",
    "            y = tf.layers.batch_normalization(y)\n",
    "            y = tf.nn.relu(y)\n",
    "            y = tf.pad(x, [[0,0], [1,1], [1,1], [0,0]], \"REFLECT\")\n",
    "            y = tf.layers.conv2d(y, dim, [3,3], [1,1], padding=\"VALID\")\n",
    "            y = tf.layers.batch_normalization(y)\n",
    "        return y + x\n",
    "\n",
    "        with tf.variable_scope('g_' + self.name, reuse=self.reuse):\n",
    "            # 256x256x3\n",
    "            c0 = tf.pad(inputs, [[0,0], [3,3], [3,3], [0,0]], \"REFLECT\")\n",
    "\n",
    "            c1 = tf.layers.conv2d(c0, gf_dim, [7,7], [1,1], padding=\"VALID\")\n",
    "            c1 = tf.nn.relu(tf.layers.batch_normalization(c1))\n",
    "\n",
    "            c2 = tf.layers.conv2d(c1, gf_dim*2, [3,3], [2,2]) # 128x128\n",
    "            c2 = tf.nn.relu(tf.layers.batch_normalization(c2)) \n",
    "\n",
    "            c3 = tf.layers.conv2d(c2, gf_dim*3, [3,3], [2,2]) # 64x64\n",
    "            c3 = tf.nn.relu(tf.layers.batch_normalization(c3))\n",
    "\n",
    "            r1 = residual_block(c3, gf_dim*4)\n",
    "            r2 = residual_block(r1, gf_dim*4)\n",
    "            r3 = residual_block(r2, gf_dim*4)\n",
    "            r4 = residual_block(r3, gf_dim*4)\n",
    "            r5 = residual_block(r4, gf_dim*4)\n",
    "            r6 = residual_block(r5, gf_dim*4)\n",
    "            r7 = residual_block(r6, gf_dim*4)\n",
    "            r8 = residual_block(r7, gf_dim*4)\n",
    "            r9 = residual_block(r8, gf_dim*4)\n",
    "            \n",
    "            # 64x64xgf_dim*4\n",
    "            d1 = tf.layers.conv2d_transpose(r9, gf_dim*2, [3,3], [2,2]) # 128x128\n",
    "            d1 = tf.nn.relu(tf.layers.batch_normalization(d1))\n",
    "\n",
    "            d2 = tf.layers.conv2d_transpose(d1, gf_dim, [3,3], [2,2]) # 256x256\n",
    "            d2 = tf.nn.relu(tf.layers.batch_normalization(d2))\n",
    "            d2 = tf.pad(d2, [[0,0], [3,3], [3,3], [0,0]], \"REFLECT\")\n",
    "            \n",
    "            y = tf.layers.conv2d(d2, 3, [7,7], [1,1], padding=\"VALID\") # 256x256x3\n",
    "            y = tf.nn.tanh(y)\n",
    "        self.reuse = True\n",
    "        self.variables = tf.get_collection(tf.GraphKeys.TRAINABLE_VARIABLES, scope='g')\n",
    "        return y"
   ]
  },
  {
   "cell_type": "code",
   "execution_count": 4,
   "metadata": {
    "collapsed": false
   },
   "outputs": [],
   "source": [
    "class Discriminator:\n",
    "    def __init__(self, name=\"\"):\n",
    "        self.reuse = False\n",
    "        self.name = name\n",
    "    def __call__(self, x, df_dim=64):\n",
    "        def leaky_relu(x, leak=0.2, name='outputs'):\n",
    "            return tf.maximum(x, x * leak, name=name)\n",
    "\n",
    "        with tf.variable_scope('d_' + self.name, reuse=self.reuse):\n",
    "            # x: 256x256x3\n",
    "\n",
    "            conv1 = tf.layers.conv2d(x, df_dim, [4,4], [2,2]) # 128x128xdif_dim\n",
    "            conv1 = leaky_relu(conv1)\n",
    "\n",
    "            conv2 = tf.layers.conv2d(conv1, df_dim*2, [4,4], [2,2]) # 64x64xdf_dim*2\n",
    "            conv2 = leaky_relu(conv2)\n",
    "\n",
    "            conv3 = tf.layers.conv2d(conv2, df_dim*4, [4,4], [2,2]) # 32x32xdf_dim*4\n",
    "            conv3 = leaky_relu(conv3)\n",
    "\n",
    "            conv4 = tf.layers.conv2d(conv3, df_dim*8, [4,4], [1,1]) # 32x32xdf_dim*8\n",
    "            conv4 = leaky_relu(conv4)\n",
    "\n",
    "            conv5 = tf.layers.conv2d(conv4, 1, [4,4], [1,1]) # 32x32x1\n",
    "\n",
    "        self.reuse = True\n",
    "        self.variables = tf.get_collection(tf.GraphKeys.TRAINABLE_VARIABLES, scope='d')\n",
    "        return conv5"
   ]
  },
  {
   "cell_type": "code",
   "execution_count": 5,
   "metadata": {
    "collapsed": true
   },
   "outputs": [],
   "source": [
    "# f(x) = ||h(x) - h(x_)|| - ||h(x)||\n",
    "class Critic(object):\n",
    "    def __init__(self, h):\n",
    "        self.h = h\n",
    "    def __call__(self, x, x_):\n",
    "        return tf.norm(self.h(x) - self.h(x_), axis=1) - tf.norm(self.h(x), axis=1)\n",
    "\n",
    "# f(x) = ||h(x) - h(x_)||\n",
    "class calc_Norm(object):\n",
    "    def __init__(self, h):\n",
    "        self.h = h\n",
    "    def __call__(self, x, x_):\n",
    "        return tf.norm(self.h(x) -self.h(x_))"
   ]
  },
  {
   "cell_type": "code",
   "execution_count": 6,
   "metadata": {
    "collapsed": true
   },
   "outputs": [],
   "source": [
    "def l2_loss(x1, x2, weights=1.0):\n",
    "    loss = tf.reduce_mean((x1 - x2) ** 2) * weights\n",
    "    return loss\n",
    "\n",
    "def l1_loss(x1, x2, weights=1.0):\n",
    "    loss = tf.reduce_mean(tf.abs(x1 - x2)) * weights\n",
    "    return loss"
   ]
  },
  {
   "cell_type": "code",
   "execution_count": 7,
   "metadata": {
    "collapsed": true
   },
   "outputs": [],
   "source": [
    "class cycleGAN:\n",
    "    def __init__(self):\n",
    "        # definition of G and D for each X2Y, Y2X\n",
    "        self.g_X2Y = Generator(name=\"X2Y\")\n",
    "        self.g_Y2X = Generator(name=\"Y2X\")\n",
    "        self.d_X2Y = Discriminator(name=\"X2Y\")\n",
    "        self.d_Y2X = Discriminator(name=\"Y2X\")\n",
    "        \n",
    "        self.X_train = np.load(\"ukiyoe2photo_trainA.npy\")\n",
    "        self.X_train = self.X_train/255\n",
    "\n",
    "        self.Y_train = np.load(\"ukiyoe2photo_trainB.npy\")\n",
    "        self.Y_train = self.Y_train/255\n",
    "\n",
    "        self.X_dim = 256*256*3\n",
    "        self.batch_size = 32\n",
    "        self.epochs = 500000\n",
    "        self.display_epoch = 100\n",
    "        self.param_save_epoch = 10000\n",
    "        self.loss = {\"d_loss_X\":[], \"d_loss_Y\":[], \"g_loss\":[]}\n",
    "        \n",
    "        self.crop_size = 256\n",
    "\n",
    "        self.X_tr = tf.placeholder(tf.float32, shape=[None, sefl.crop_size, self.crop_size, 3])\n",
    "        self.Y_tr = tf.placeholder(tf.float32, shape=[None, self.crop_size, self.crop_size, 3])\n",
    "\n",
    "        self.lr = 0.0002\n",
    "\n",
    "        \n",
    "    def loss_(self):\n",
    "        # the results of generation\n",
    "        X2Y = self.g_X2Y(X_tr) #X→Y\n",
    "        Y2X = self.g_Y2X(Y_tr) #Y→X\n",
    "        X2Y2X = self.g_Y2X(X2Y) #X→Y→X\n",
    "        Y2X2Y = self.g_X2Y(Y2X) #Y→X→Y\n",
    "\n",
    "        # the results of discrimination\n",
    "        X_dis = self.d_Y2X(self.X_tr)\n",
    "        Y2X_dis = self.d_Y2X(Y2X)\n",
    "        Y_dis = self.d_X2Y(self.Y_tr)\n",
    "        X2Y_dis = self.d_X2Y(X2Y)\n",
    "\n",
    "        # g_losses\n",
    "        g_loss_X2Y = tf.identity(l2_loss(X2Y_dis, tf.ones_like(X2Y_dis)))\n",
    "        g_loss_Y2X = tf.identity(l2_loss(Y2X_dis, tf.ones_like(Y2X_dis)))\n",
    "        cyc_loss_X = tf.identity(l1_loss(self.X_tr, X2Y2X) * 10.0)\n",
    "        cyc_loss_Y = tf.identity(l1_loss(self.Y_tr, Y2X2Y) * 10.0)\n",
    "        g_loss = g_loss_X2Y + g_loss_Y2X + cyc_loss_X + cyc_loss_Y\n",
    "\n",
    "        #  d_losses\n",
    "        d_loss_Xtr = l2_loss(X_dis, tf.ones_like(X_dis))\n",
    "        d_loss_Y2X = l2_loss(Y2X_dis, tf.ones_like(Y2X_dis))\n",
    "        d_loss_X = d_loss_Xtr + d_loss_Y2X\n",
    "        \n",
    "        d_loss_Ytr = l2_loss(Y_dis, tf.ones_like(Y_dis))\n",
    "        d_loss_X2Y = l2_loss(X2Y_dis, tf.ones_like(X2Y_dis))\n",
    "        d_loss_Y = d_loss_Ytr + d_loss_X2Y\n",
    " \n",
    "        return g_loss, d_loss_X, d_loss_Y\n",
    "\n",
    "    def train():\n",
    "        g_loss, d_loss_X, d_loss_Y = self.loss()\n",
    "\n",
    "        # Optimizer\n",
    "        g_var = [var for var in (self.g_X2Y or self.g_Y2X)]\n",
    "        d_X_train_op = tf.train.AdamOptimizer(self.lr, beta1=0.5).minimize(d_loss_X, var_list=self.d_Y2X)\n",
    "        d_Y_train_op = tf.train.AdamOptimizer(self.lr, beta1=0.5).minimize(d_loss_Y, var_list=self.d_X2Y)\n",
    "        g_train_op = tf.train.AdamOptimizer(self.lr, beta1=0.5).minimize(g_loss, var_list=g_var)\n",
    "\n",
    "        saver = tf.train.Saver()\n",
    "        #%debug\n",
    "        \n",
    "        with tf.Session() as sess:\n",
    "            sess.run(tf.global_variables_initializer())\n",
    "            for epoch in range(epochs):\n",
    "\n",
    "                # X_mb, Y_mbを収集\n",
    "                rand_index = np.random.randint(0, self.X_train.shape[0], size=batch_size)\n",
    "                X_mb = self.X_train[rand_index, :].astype(np.float32)\n",
    "                rand_index = np.random.randint(0, self.Y_train.shape[0], size=batch_size)\n",
    "                Y_mb = self.Y_train[rand_index, :].astype(np.float32)\n",
    "                \n",
    "                # train G\n",
    "                _,  = sess.run([g_train_op, g_loss], feed_dict={self.X_tr: X_mb, self.Y_tr: Y_mb})\n",
    "                    \n",
    "                # train D_X\n",
    "                _ = sess.run([d_X_train_op, d_loss_X], feed_dict={self.X_tr: X_mb, self.Y_tr: Y_mb})\n",
    "                \n",
    "                # train D_Y\n",
    "                _ = sess.run([d_Y_train_op, d_loss_Y], feed_dict={self.X_tr: X_mb, self.Y_tr:Y_mb})\n",
    "              \n",
    "                # 結果をappend\n",
    "                loss[\"d_loss_X\"].append(d_loss)\n",
    "                loss[\"d_loss_Y\"].append(d_loss_value)\n",
    "                loss[\"n_loss\"].append(g_loss_value)\n",
    "                print(\"epoch:\" + str(epoch))\n",
    "                # グラフの描画（余裕があったら）\n",
    "                if epoch % display_epoch == 0:\n",
    "                    save_metrics(loss, epoch)\n",
    "\n",
    "                if epoch % param_save_epoch == 0:\n",
    "                    path = \"model\"\n",
    "                    if not os.path.isdir(path):\n",
    "                        os.makedirs(path)\n",
    "\n",
    "                    saver.save(sess, \"./model/dcgan_model\" + str(epoch) + \".ckpt\")\n",
    "\n",
    "\n",
    "        \n",
    "    \n",
    "    def sample_images(self, row=5, col=12, inputs=None, epoch=None):\n",
    "        images = self.g(inputs, training=True)\n",
    "        return images"
   ]
  },
  {
   "cell_type": "code",
   "execution_count": null,
   "metadata": {
    "collapsed": true
   },
   "outputs": [],
   "source": []
  },
  {
   "cell_type": "markdown",
   "metadata": {},
   "source": [
    "# main func"
   ]
  },
  {
   "cell_type": "code",
   "execution_count": 8,
   "metadata": {
    "collapsed": false,
    "scrolled": false
   },
   "outputs": [
    {
     "ename": "AttributeError",
     "evalue": "'cycleGAN' object has no attribute 'd'",
     "output_type": "error",
     "traceback": [
      "\u001b[0;31m---------------------------------------------------------------------------\u001b[0m",
      "\u001b[0;31mAttributeError\u001b[0m                            Traceback (most recent call last)",
      "\u001b[0;32m<ipython-input-8-b8b9e38168b9>\u001b[0m in \u001b[0;36m<module>\u001b[0;34m()\u001b[0m\n\u001b[1;32m      1\u001b[0m \u001b[0;32mif\u001b[0m \u001b[0m__name__\u001b[0m \u001b[0;34m==\u001b[0m \u001b[0;34m\"__main__\"\u001b[0m\u001b[0;34m:\u001b[0m\u001b[0;34m\u001b[0m\u001b[0m\n\u001b[0;32m----> 2\u001b[0;31m     \u001b[0mCGAN\u001b[0m \u001b[0;34m=\u001b[0m \u001b[0mcycleGAN\u001b[0m\u001b[0;34m(\u001b[0m\u001b[0;34m)\u001b[0m\u001b[0;34m\u001b[0m\u001b[0m\n\u001b[0m\u001b[1;32m      3\u001b[0m     \u001b[0mCGAN\u001b[0m\u001b[0;34m.\u001b[0m\u001b[0mtrain\u001b[0m\u001b[0;34m(\u001b[0m\u001b[0;34m)\u001b[0m\u001b[0;34m\u001b[0m\u001b[0m\n",
      "\u001b[0;32m<ipython-input-7-c78d7aaaaf81>\u001b[0m in \u001b[0;36m__init__\u001b[0;34m(self)\u001b[0m\n\u001b[1;32m      8\u001b[0m \u001b[0;34m\u001b[0m\u001b[0m\n\u001b[1;32m      9\u001b[0m         \u001b[0mself\u001b[0m\u001b[0;34m.\u001b[0m\u001b[0mz_dim\u001b[0m \u001b[0;34m=\u001b[0m \u001b[0;36m100\u001b[0m\u001b[0;34m\u001b[0m\u001b[0m\n\u001b[0;32m---> 10\u001b[0;31m         \u001b[0mself\u001b[0m\u001b[0;34m.\u001b[0m\u001b[0mcritic\u001b[0m \u001b[0;34m=\u001b[0m \u001b[0mCritic\u001b[0m\u001b[0;34m(\u001b[0m\u001b[0mself\u001b[0m\u001b[0;34m.\u001b[0m\u001b[0md\u001b[0m\u001b[0;34m)\u001b[0m\u001b[0;34m\u001b[0m\u001b[0m\n\u001b[0m\u001b[1;32m     11\u001b[0m         \u001b[0mself\u001b[0m\u001b[0;34m.\u001b[0m\u001b[0mcalcNorm\u001b[0m \u001b[0;34m=\u001b[0m \u001b[0mcalc_Norm\u001b[0m\u001b[0;34m(\u001b[0m\u001b[0mself\u001b[0m\u001b[0;34m.\u001b[0m\u001b[0md\u001b[0m\u001b[0;34m)\u001b[0m\u001b[0;34m\u001b[0m\u001b[0m\n\u001b[1;32m     12\u001b[0m \u001b[0;34m\u001b[0m\u001b[0m\n",
      "\u001b[0;31mAttributeError\u001b[0m: 'cycleGAN' object has no attribute 'd'"
     ]
    }
   ],
   "source": [
    "if __name__ == \"__main__\":\n",
    "    CGAN = cycleGAN()\n",
    "    CGAN.train()"
   ]
  },
  {
   "cell_type": "code",
   "execution_count": null,
   "metadata": {
    "collapsed": true
   },
   "outputs": [],
   "source": []
  }
 ],
 "metadata": {
  "anaconda-cloud": {},
  "kernelspec": {
   "display_name": "Python 3",
   "language": "python",
   "name": "python3"
  },
  "language_info": {
   "codemirror_mode": {
    "name": "ipython",
    "version": 3
   },
   "file_extension": ".py",
   "mimetype": "text/x-python",
   "name": "python",
   "nbconvert_exporter": "python",
   "pygments_lexer": "ipython3",
   "version": "3.6.0"
  }
 },
 "nbformat": 4,
 "nbformat_minor": 1
}
