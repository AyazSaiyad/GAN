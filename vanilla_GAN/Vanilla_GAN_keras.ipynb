{
 "cells": [
  {
   "cell_type": "markdown",
   "metadata": {},
   "source": [
    "# Vanilla GAN implementation using keras"
   ]
  },
  {
   "cell_type": "code",
   "execution_count": null,
   "metadata": {},
   "outputs": [],
   "source": [
    "import os\n",
    "import numpy as np\n",
    "from tqdm import tqdm\n",
    "import matplotlib.pyplot as plt\n",
    "\n",
    "import keras\n",
    "from keras.models import Sequential\n",
    "from keras.layers import Dense, Activation, BatchNormalization\n",
    "\n",
    "from keras.optimizers import SGD\n",
    "from keras.datasets import mnist\n",
    "from keras.regularizers import l1_l2"
   ]
  },
  {
   "cell_type": "code",
   "execution_count": null,
   "metadata": {
    "collapsed": true
   },
   "outputs": [],
   "source": [
    "# generated images and visualize\n",
    "def plot_generated(noise, generator_model, examples=9, plot_dim=(3,3), size=(7,7), epoch=None):\n",
    "    # make directory if there is not\n",
    "    path = \"generated_figures\"\n",
    "    if not os.path.isdir(path):\n",
    "        os.makedirs(path)\n",
    "    \n",
    "    # generate images\n",
    "    generated_images = generator_model.predict(noise)\n",
    "\n",
    "    # visualize\n",
    "    fig = plt.figure(figsize=size)\n",
    "    for i in range(examples):\n",
    "        plt.subplot(plot_dim[0], plot_dim[1], i+1)\n",
    "        img = generated_images[i, :]\n",
    "        img = img.reshape((28, 28))\n",
    "        plt.tight_layout()\n",
    "        plt.imshow(img, cmap=\"gray\")\n",
    "        plt.axis(\"off\")\n",
    "    plt.savefig(os.path.join(path, str(epoch) + \".png\"))\n",
    "    plt.close()"
   ]
  },
  {
   "cell_type": "code",
   "execution_count": null,
   "metadata": {
    "collapsed": true
   },
   "outputs": [],
   "source": [
    "def plot_metrics(metrics, epoch=None):\n",
    "    # make directory if there is not\n",
    "    path = \"metrics\"\n",
    "    if not os.path.isdir(path):\n",
    "        os.makedirs(path)\n",
    "    \n",
    "    plt.figure(figsize=(10,8))\n",
    "    plt.plot(metrics[\"d\"], label=\"discriminative loss\", color=\"b\")\n",
    "    plt.legend()\n",
    "    plt.savefig(os.path.join(path, \"dloss\" + str(epoch) + \".png\"))\n",
    "    plt.close()\n",
    "\n",
    "    plt.figure(figsize=(10,8))\n",
    "    plt.plot(metrics[\"g\"], label=\"generative loss\", color=\"r\")\n",
    "    plt.legend()\n",
    "    plt.savefig(os.path.join(path, \"g_loss\" + str(epoch) + \".png\"))\n",
    "    plt.close()"
   ]
  },
  {
   "cell_type": "code",
   "execution_count": null,
   "metadata": {
    "collapsed": true
   },
   "outputs": [],
   "source": [
    "def Generator():\n",
    "    act = keras.layers.advanced_activations.LeakyReLU(alpha=0.2)\n",
    "    Gen = Sequential()\n",
    "    Gen.add(Dense(input_dim=100, units=256, kernel_regularizer=l1_l2(1e-5, 1e-5)))\n",
    "    Gen.add(BatchNormalization(mode=0))\n",
    "    Gen.add(act)\n",
    "    Gen.add(Dense(units=512, kernel_regularizer=l1_l2(1e-5, 1e-5)))\n",
    "    Gen.add(BatchNormalization(mode=0))\n",
    "    Gen.add(act)\n",
    "    Gen.add(Dense(units=1024, kernel_regularizer=l1_l2(1e-5, 1e-5)))\n",
    "    Gen.add(BatchNormalization(mode=0))\n",
    "    Gen.add(act)\n",
    "    Gen.add(Dense(units=28*28, kernel_regularizer=l1_l2(1e-5, 1e-5)))\n",
    "    Gen.add(BatchNormalization(mode=0))\n",
    "    Gen.add(Activation(\"sigmoid\"))\n",
    "    generator_optimizer = SGD(lr=0.1, momentum=0.3, decay=1e-5)\n",
    "    \n",
    "    Gen.compile(loss=\"binary_crossentropy\", optimizer=generator_optimizer)\n",
    "    return Gen"
   ]
  },
  {
   "cell_type": "code",
   "execution_count": null,
   "metadata": {
    "collapsed": true
   },
   "outputs": [],
   "source": [
    "def Discriminator():\n",
    "    act = keras.layers.advanced_activations.LeakyReLU(alpha=0.2)\n",
    "    Dis = Sequential()\n",
    "    Dis.add(Dense(input_dim=784, units=1024, kernel_regularizer=l1_l2(1e-5, 1e-5)))\n",
    "    Dis.add(act)\n",
    "    Dis.add(Dense(units=512, kernel_regularizer=l1_l2(1e-5, 1e-5)))\n",
    "    Dis.add(act)\n",
    "    Dis.add(Dense(units=256, kernel_regularizer=l1_l2(1e-5, 1e-5)))\n",
    "    Dis.add(act)\n",
    "    Dis.add(Dense(units=1, kernel_regularizer=l1_l2(1e-5, 1e-5)))\n",
    "    Dis.add(Activation(\"sigmoid\"))\n",
    "    discriminator_optimizer = SGD(lr=0.1, momentum=0.1, decay=1e-5)\n",
    "    Dis.compile(loss=\"binary_crossentropy\", optimizer=discriminator_optimizer)\n",
    "    return Dis"
   ]
  },
  {
   "cell_type": "code",
   "execution_count": null,
   "metadata": {
    "collapsed": true
   },
   "outputs": [],
   "source": [
    "def Generative_Adversarial_Network(generator_model, discriminator_model):\n",
    "    GAN = Sequential()\n",
    "    GAN.add(generator_model)\n",
    "    discriminator_model.trainable=False\n",
    "    GAN.add(discriminator_model)\n",
    "    gan_optimizer = SGD(0.1, momentum=0.3)\n",
    "    GAN.compile(loss=\"binary_crossentropy\", optimizer=gan_optimizer)\n",
    "    return GAN"
   ]
  },
  {
   "cell_type": "code",
   "execution_count": null,
   "metadata": {},
   "outputs": [],
   "source": [
    "(X_train, y_train), (X_test, y_test) = mnist.load_data()\n",
    "\n",
    "X_train = X_train.reshape(X_train.shape[0], 28*28)\n",
    "X_test = X_test.reshape(X_test.shape[0], 28*28)\n",
    "X_train.astype('float32')\n",
    "X_test.astype('float32')\n",
    "X_train = X_train/255\n",
    "X_test = X_test/255\n",
    "\n",
    "print(\"X_train shape\", X_train.shape)\n",
    "print(X_train.shape[0], \"train samples\")\n",
    "print(X_test.shape[0], \"test samples\")"
   ]
  },
  {
   "cell_type": "code",
   "execution_count": null,
   "metadata": {
    "collapsed": true
   },
   "outputs": [],
   "source": [
    "def main_train(z_input_size, generator_model, discriminator_model, gan_model, loss_dict, X_train, generated_figures=None, z_group=None, z_plot_freq=200, epoch=1000, plot_freq=25, batch=100):\n",
    "\n",
    "    # tqdm\n",
    "    with tqdm(total=epoch) as pbar:\n",
    "        for e in range(epoch):\n",
    "            pbar.update(1)\n",
    "\n",
    "            # generate images from noise\n",
    "            noise = np.random.uniform(0, 1, size=[batch, z_input_size])\n",
    "            generated_images = generator_model.predict_on_batch(noise)\n",
    "\n",
    "            # extract training images\n",
    "            rand_train_index = np.random.randint(0, X_train.shape[0], size=batch)\n",
    "            image_batch = X_train[rand_train_index, :]\n",
    "\n",
    "            # concat training images and generated images\n",
    "            X = np.vstack((image_batch, generated_images))\n",
    "            # make label\n",
    "            y = np.zeros(int(2*batch))\n",
    "            y[batch:] = 1\n",
    "            y = y.astype(int)\n",
    "\n",
    "            # training of discriminator\n",
    "            discriminator_model.trainable = True\n",
    "            d_loss = discriminator_model.train_on_batch(x=X, y=y)\n",
    "            discriminator_model.trainable = False\n",
    "\n",
    "            # training of generator\n",
    "            noise = np.random.uniform(0, 1, size=[batch, z_input_size])\n",
    "            y = np.zeros(batch)\n",
    "            y = y.astype(int)\n",
    "            g_loss = gan_model.train_on_batch(x=noise, y=y)\n",
    "\n",
    "            loss_dict[\"d\"].append(d_loss)\n",
    "            loss_dict[\"g\"].append(g_loss)\n",
    "\n",
    "            # show graph\n",
    "            if e%plot_freq == plot_freq-1:\n",
    "                plot_metrics(loss_dict, int(e/plot_freq))\n",
    "                \n",
    "            # show the generated images\n",
    "            if visualize_train and e < epoch:\n",
    "                if e%z_plot_freq == z_plot_freq-1:\n",
    "                    plot_generated(z_group, generator_model=generator_model, epoch=int(e/z_plot_freq))\n",
    "                    #generated_figures.append(fig)"
   ]
  },
  {
   "cell_type": "code",
   "execution_count": null,
   "metadata": {
    "collapsed": true,
    "scrolled": true
   },
   "outputs": [],
   "source": [
    "# generate model\n",
    "Gen = Generator()\n",
    "Dis = Discriminator()\n",
    "GAN = Generative_Adversarial_Network(Gen, Dis)\n",
    "GAN.summary()\n",
    "\n",
    "Gen.summary()\n",
    "Dis.summary()\n",
    "\n",
    "# parameter setting\n",
    "gan_losses = {\"d\":[], \"g\":[], \"f\":[]}\n",
    "epoch = 300000\n",
    "batch = 1000\n",
    "z_plot_freq = 1000\n",
    "plot_freq = 10000\n",
    "z_input_vector = 100\n",
    "n_train_samples = 60000\n",
    "examples = 9\n",
    "\n",
    "z_group_matrix = np.random.uniform(0,1,examples*z_input_vector)\n",
    "z_group_matrix = z_group_matrix.reshape([9, z_input_vector])\n",
    "print(z_group_matrix.shape)\n",
    "\n",
    "generated_figures = []"
   ]
  },
  {
   "cell_type": "code",
   "execution_count": null,
   "metadata": {
    "collapsed": true,
    "scrolled": true
   },
   "outputs": [],
   "source": [
    "main_train(100, Gen, Dis, GAN, loss_dict=gan_losses, X_train=X_train, generated_figures=z_training_figures, z_group=z_group_matrix, z_plot_freq=z_plot_freq, epoch=epoch, plot_freq=plot_freq, batch=batch)"
   ]
  }
 ],
 "metadata": {
  "anaconda-cloud": {},
  "kernelspec": {
   "display_name": "Python [default]",
   "language": "python",
   "name": "python3"
  },
  "language_info": {
   "codemirror_mode": {
    "name": "ipython",
    "version": 3
   },
   "file_extension": ".py",
   "mimetype": "text/x-python",
   "name": "python",
   "nbconvert_exporter": "python",
   "pygments_lexer": "ipython3",
   "version": "3.5.2"
  }
 },
 "nbformat": 4,
 "nbformat_minor": 2
}
