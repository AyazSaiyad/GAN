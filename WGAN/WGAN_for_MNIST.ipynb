{
 "cells": [
  {
   "cell_type": "code",
   "execution_count": 1,
   "metadata": {
    "collapsed": false,
    "scrolled": true
   },
   "outputs": [
    {
     "name": "stdout",
     "output_type": "stream",
     "text": [
      "Extracting MNIST_data/train-images-idx3-ubyte.gz\n",
      "Extracting MNIST_data/train-labels-idx1-ubyte.gz\n",
      "Extracting MNIST_data/t10k-images-idx3-ubyte.gz\n",
      "Extracting MNIST_data/t10k-labels-idx1-ubyte.gz\n"
     ]
    }
   ],
   "source": [
    "import tensorflow as tf\n",
    "import os\n",
    "import numpy as np\n",
    "from model import *\n",
    "from utility import *\n",
    "\n",
    "from tensorflow.examples.tutorials.mnist import input_data\n",
    "mnist = input_data.read_data_sets(\"MNIST_data/\",one_hot=True)\n",
    "\n",
    "model_name = \"WGAN_for_MNIST\""
   ]
  },
  {
   "cell_type": "code",
   "execution_count": 2,
   "metadata": {
    "collapsed": true
   },
   "outputs": [],
   "source": [
    "class Generator:\n",
    "    def __init__(self):\n",
    "        self.reuse = False\n",
    "        self.g_bn0 = BatchNormalization(name = 'g_bn0')\n",
    "\n",
    "    def __call__(self, z, training=False):\n",
    "        with tf.variable_scope('g', reuse=self.reuse):\n",
    "            fc0 = full_connection_layer(z, 7*7*512, name=\"fc0\")\n",
    "            fc0 = tf.reshape(fc0, [-1, 7, 7, 512])\n",
    "\n",
    "            batch_size = tf.shape(fc0)[0]\n",
    "            deconv0 = deconv2d_layer(fc0, [batch_size, 14, 14, 256], kernel_size=4, name=\"deconv0\")\n",
    "            deconv0 = self.g_bn0(deconv0)\n",
    "            deconv0 = lrelu(deconv0, leak=0.3)\n",
    "\n",
    "            deconv1 = deconv2d_layer(deconv0, [batch_size, 28, 28, 1], kernel_size=4, name=\"deconv1\")\n",
    "            deconv1 = tf.nn.tanh(deconv1)\n",
    "            output = deconv1 \n",
    "\n",
    "        self.reuse = True\n",
    "        self.variables = tf.get_collection(tf.GraphKeys.TRAINABLE_VARIABLES, scope='g')\n",
    "        return output"
   ]
  },
  {
   "cell_type": "code",
   "execution_count": 3,
   "metadata": {
    "collapsed": true
   },
   "outputs": [],
   "source": [
    "class Discriminator:\n",
    "    def __init__(self):\n",
    "        self.reuse = False\n",
    "        self.d_bn0 = BatchNormalization(name=\"d_bn0\")\n",
    "        self.d_bn1 = BatchNormalization(name=\"d_bn1\")\n",
    "        \n",
    "    def __call__(self, x,training=False, name=''):\n",
    "        with tf.variable_scope('d', reuse=self.reuse):\n",
    "            x = tf.reshape(x, [-1, 28, 28, 1])\n",
    "\n",
    "            conv1 = conv2d_layer(x, 128, kernel_size=4, name=\"d_conv0\")\n",
    "            conv1 = self.d_bn0(conv1)\n",
    "            conv1 = lrelu(conv1, leak=0.3)\n",
    "            \n",
    "            conv2 = conv2d_layer(conv1, 256, kernel_size=4, name=\"d_conv1\")\n",
    "            conv2 = self.d_bn1(conv2)\n",
    "            conv2 = lrelu(conv2, leak=0.3)\n",
    "            conv2 = tf.contrib.layers.flatten(conv2)\n",
    "\n",
    "            fc0 = full_connection_layer(conv2, 512, name=\"fc0\")\n",
    "            fc0 = lrelu(fc0)\n",
    "\n",
    "            fc1 = full_connection_layer(fc0, 128, name=\"fc1\")\n",
    "            fc1 = lrelu(fc1)\n",
    "\n",
    "            disc = full_connection_layer(fc1, 1, name = 'disc')\n",
    "\n",
    "        self.reuse = True\n",
    "        self.variables = tf.get_collection(tf.GraphKeys.TRAINABLE_VARIABLES, scope='d')\n",
    "\n",
    "        return disc"
   ]
  },
  {
   "cell_type": "code",
   "execution_count": null,
   "metadata": {
    "collapsed": true
   },
   "outputs": [],
   "source": [
    "class GAN:\n",
    "    def __init__(self):\n",
    "        self.batch_size = 64\n",
    "        self.img_size = 28\n",
    "        self.z_size = 50\n",
    "        \n",
    "        self.epochs = 50000\n",
    "        self.epoch_saveMetrics = 1000\n",
    "        self.epoch_saveSampleImg = 1000\n",
    "        self.epoch_saveParamter = 5000\n",
    "        self.losses = {\"d_loss\":[], \"g_loss\":[]}\n",
    "\n",
    "        # unrolled counts\n",
    "        self.steps = 5\n",
    "\n",
    "        self.X_tr = tf.placeholder(tf.float32, shape=[None, self.img_size, self.img_size, 1])\n",
    "        self.z = tf.placeholder(tf.float32, [None, self.z_size])\n",
    "        \n",
    "        self.g = Generator()\n",
    "        self.d = Discriminator()\n",
    "        self.Xg = self.g(self.z)\n",
    "\n",
    "    def loss(self):\n",
    "        disc_tr = self.d(self.X_tr)\n",
    "        disc_gen = self.d(self.Xg)\n",
    "        \n",
    "        loss_d = - tf.reduce_mean(disc_tr) + tf.reduce_mean(disc_gen)\n",
    "        loss_g = - tf.reduce_mean(disc_gen)\n",
    "\n",
    "        return loss_g, loss_d\n",
    "\n",
    "    def train(self):\n",
    "        # Optimizer\n",
    "\n",
    "        self.L_g, self.L_d = self.loss()\n",
    "\n",
    "        d_opt = tf.train.RMSPropOptimizer(learning_rate=5e-5)\n",
    "        d_train_op = d_opt.minimize(self.L_d, var_list=self.d.variables)\n",
    "        g_opt = tf.train.RMSPropOptimizer(learning_rate=5e-5)\n",
    "        g_train_op = g_opt.minimize(self.L_g, var_list=self.g.variables)\n",
    "        \n",
    "        self.clip_updates = [w.assign(tf.clip_by_value(w, -0.01, 0.01)) for w in self.d.variables]\n",
    "\n",
    "        saver = tf.train.Saver()\n",
    "        \n",
    "        config = tf.ConfigProto(\n",
    "            gpu_options=tf.GPUOptions(\n",
    "                visible_device_list= \"0\"\n",
    "            )\n",
    "        )\n",
    "                \n",
    "        with tf.Session(config=config) as sess:\n",
    "            sess.run(tf.global_variables_initializer())\n",
    "\n",
    "            # preparing noise vec for test\n",
    "            bs = 100\n",
    "            test_z = np.random.uniform(-1, 1, size=[bs, self.z_size])\n",
    "\n",
    "            for epoch in range(self.epochs):\n",
    "                for step in range(self.steps):\n",
    "                    # extract images for training\n",
    "                    X_mb, _ = mnist.train.next_batch(self.batch_size)\n",
    "                    X_mb = np.reshape(X_mb, [-1, 28, 28, 1])\n",
    "                    z = np.random.uniform(-1, 1, size=[self.batch_size, self.z_size])\n",
    "\n",
    "                    sess.run([self.clip_updates])\n",
    "\n",
    "                    # train Discriminator\n",
    "                    _, d_loss_value = sess.run([d_train_op, self.L_d], feed_dict={\n",
    "                        self.X_tr: X_mb,\n",
    "                        self.z:z,\n",
    "                    })\n",
    "\n",
    "                # extract images for training\n",
    "                X_mb, _ = mnist.train.next_batch(self.batch_size)\n",
    "                X_mb = np.reshape(X_mb, [-1, 28, 28, 1])\n",
    "                z = np.random.uniform(-1, 1, size=[self.batch_size, self.z_size])\n",
    "\n",
    "                # train Generator\n",
    "                _, g_loss_value = sess.run([g_train_op, self.L_g], feed_dict={\n",
    "                    self.X_tr: X_mb,\n",
    "                    self.z:z,\n",
    "                })\n",
    "\n",
    "                # append loss value for visualizing\n",
    "                self.losses[\"d_loss\"].append(np.sum(d_loss_value))\n",
    "                self.losses[\"g_loss\"].append(np.sum(g_loss_value))\n",
    "                \n",
    "                # print epoch\n",
    "                if epoch % 50 == 0:\n",
    "                    print('epoch:{0}, d_loss:{1}, g_loss{2} '.format(epoch, d_loss_value, g_loss_value))\n",
    "                \n",
    "                # visualize loss\n",
    "                if epoch % self.epoch_saveMetrics == 0:\n",
    "                    save_metrics(model_name, self.losses, epoch)\n",
    "\n",
    "                # visualize generated images during training\n",
    "                if epoch % self.epoch_saveSampleImg == 0:\n",
    "                    img = sess.run(self.Xg, feed_dict={self.z: test_z})\n",
    "                    save_imgs(model_name, img, name=str(epoch))\n",
    "\n",
    "                # save model parameters \n",
    "                if epoch % self.epoch_saveParamter == 0:\n",
    "                    dir_path = \"model_\" + model_name\n",
    "                    if not os.path.isdir(dir_path):\n",
    "                        os.makedirs(dir_path)\n",
    "\n",
    "                    saver.save(sess, dir_path + \"/\" + str(epoch) + \".ckpt\")"
   ]
  },
  {
   "cell_type": "code",
   "execution_count": null,
   "metadata": {
    "collapsed": false,
    "scrolled": true
   },
   "outputs": [
    {
     "name": "stderr",
     "output_type": "stream",
     "text": [
      "/home/ujitoko/anaconda3/lib/python3.6/site-packages/ipykernel/__main__.py:60: DeprecationWarning: PyUnicode_AsEncodedObject() is deprecated; use PyUnicode_AsEncodedString() to encode from str to bytes or PyCodec_Encode() for generic encoding\n"
     ]
    },
    {
     "name": "stdout",
     "output_type": "stream",
     "text": [
      "epoch:0, d_loss:-4.46926242148038e-06, g_loss1.9545912437024526e-05 \n",
      "epoch:50, d_loss:-0.04019191116094589, g_loss0.018564647063612938 \n",
      "epoch:100, d_loss:-2.6372733116149902, g_loss1.5017802715301514 \n",
      "epoch:150, d_loss:-3.7869198322296143, g_loss2.3016538619995117 \n",
      "epoch:200, d_loss:-2.2071709632873535, g_loss1.3139333724975586 \n",
      "epoch:250, d_loss:-2.087063789367676, g_loss1.4117836952209473 \n",
      "epoch:300, d_loss:-2.2223129272460938, g_loss0.4084538221359253 \n",
      "epoch:350, d_loss:-2.412163734436035, g_loss1.7575428485870361 \n",
      "epoch:400, d_loss:-2.123284101486206, g_loss1.932735562324524 \n",
      "epoch:450, d_loss:-1.7983267307281494, g_loss1.8851094245910645 \n"
     ]
    }
   ],
   "source": [
    "gan = GAN()\n",
    "gan.train()"
   ]
  },
  {
   "cell_type": "code",
   "execution_count": null,
   "metadata": {
    "collapsed": true
   },
   "outputs": [],
   "source": []
  },
  {
   "cell_type": "code",
   "execution_count": null,
   "metadata": {
    "collapsed": true
   },
   "outputs": [],
   "source": []
  },
  {
   "cell_type": "code",
   "execution_count": null,
   "metadata": {
    "collapsed": true
   },
   "outputs": [],
   "source": []
  },
  {
   "cell_type": "code",
   "execution_count": null,
   "metadata": {
    "collapsed": true
   },
   "outputs": [],
   "source": []
  },
  {
   "cell_type": "code",
   "execution_count": null,
   "metadata": {
    "collapsed": true
   },
   "outputs": [],
   "source": []
  }
 ],
 "metadata": {
  "anaconda-cloud": {},
  "kernelspec": {
   "display_name": "Python 3",
   "language": "python",
   "name": "python3"
  },
  "language_info": {
   "codemirror_mode": {
    "name": "ipython",
    "version": 3
   },
   "file_extension": ".py",
   "mimetype": "text/x-python",
   "name": "python",
   "nbconvert_exporter": "python",
   "pygments_lexer": "ipython3",
   "version": "3.6.0"
  }
 },
 "nbformat": 4,
 "nbformat_minor": 1
}
